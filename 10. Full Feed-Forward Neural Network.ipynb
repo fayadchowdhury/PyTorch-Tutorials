{
 "cells": [
  {
   "cell_type": "markdown",
   "id": "a2887ddc",
   "metadata": {},
   "source": [
    "#### Full Feed-Forward Neural Network"
   ]
  },
  {
   "cell_type": "markdown",
   "id": "6b06fb2d",
   "metadata": {},
   "source": [
    "A Feed-Forward (Neural) Network (FFN) is essentially a simple neural network where the connections between nodes do not form a cycle. That is to say that there are no backlinks or connection from the $L+1$ layer to the $L$ layer as would be seen in Residual Networks"
   ]
  },
  {
   "cell_type": "code",
   "execution_count": 1,
   "id": "864134b0",
   "metadata": {},
   "outputs": [],
   "source": [
    "import torch\n",
    "import torch.nn as nn\n",
    "import torchvision\n",
    "import matplotlib.pyplot as plt"
   ]
  },
  {
   "cell_type": "code",
   "execution_count": 2,
   "id": "734a2bcc",
   "metadata": {},
   "outputs": [
    {
     "name": "stdout",
     "output_type": "stream",
     "text": [
      "cuda\n"
     ]
    }
   ],
   "source": [
    "# Device configuration to use GPU if found\n",
    "device = torch.device('cuda' if torch.cuda.is_available() else 'cpu')\n",
    "print(device)"
   ]
  },
  {
   "cell_type": "code",
   "execution_count": 3,
   "id": "2df62a07",
   "metadata": {},
   "outputs": [],
   "source": [
    "# Define hyperparameters\n",
    "input_size = 784 # Images are 28x28 = 784 pixels each\n",
    "hidden_size = 100 # Number of neurons in the hidden layer\n",
    "num_classes = 10 # 10 classes or digits to be predicted\n",
    "num_epochs = 2 # 2 epochs\n",
    "batch_size = 100 # 100 samples per batch\n",
    "alpha = 1e-3 # Learning rate = 0.001"
   ]
  },
  {
   "cell_type": "code",
   "execution_count": 4,
   "id": "614450e9",
   "metadata": {},
   "outputs": [],
   "source": [
    "# Import MNIST dataset\n",
    "# This dataset contains images of the handwritten numbers 0-9\n",
    "train_dataset = torchvision.datasets.MNIST(root=\"./data\", train=True, transform=torchvision.transforms.ToTensor(), download=True)\n",
    "test_dataset = torchvision.datasets.MNIST(root=\"./data\", train=False, transform=torchvision.transforms.ToTensor(), download=True)"
   ]
  },
  {
   "cell_type": "code",
   "execution_count": 5,
   "id": "41a19c8f",
   "metadata": {},
   "outputs": [],
   "source": [
    "# Initialize train DataLoader\n",
    "train_dataloader = torch.utils.data.DataLoader(dataset=train_dataset, batch_size=batch_size, shuffle=True)\n",
    "test_dataloader = torch.utils.data.DataLoader(dataset=test_dataset, batch_size=batch_size, shuffle=False)"
   ]
  },
  {
   "cell_type": "code",
   "execution_count": 6,
   "id": "c64ca7b7",
   "metadata": {},
   "outputs": [
    {
     "name": "stdout",
     "output_type": "stream",
     "text": [
      "[tensor([[[[0., 0., 0.,  ..., 0., 0., 0.],\n",
      "          [0., 0., 0.,  ..., 0., 0., 0.],\n",
      "          [0., 0., 0.,  ..., 0., 0., 0.],\n",
      "          ...,\n",
      "          [0., 0., 0.,  ..., 0., 0., 0.],\n",
      "          [0., 0., 0.,  ..., 0., 0., 0.],\n",
      "          [0., 0., 0.,  ..., 0., 0., 0.]]],\n",
      "\n",
      "\n",
      "        [[[0., 0., 0.,  ..., 0., 0., 0.],\n",
      "          [0., 0., 0.,  ..., 0., 0., 0.],\n",
      "          [0., 0., 0.,  ..., 0., 0., 0.],\n",
      "          ...,\n",
      "          [0., 0., 0.,  ..., 0., 0., 0.],\n",
      "          [0., 0., 0.,  ..., 0., 0., 0.],\n",
      "          [0., 0., 0.,  ..., 0., 0., 0.]]],\n",
      "\n",
      "\n",
      "        [[[0., 0., 0.,  ..., 0., 0., 0.],\n",
      "          [0., 0., 0.,  ..., 0., 0., 0.],\n",
      "          [0., 0., 0.,  ..., 0., 0., 0.],\n",
      "          ...,\n",
      "          [0., 0., 0.,  ..., 0., 0., 0.],\n",
      "          [0., 0., 0.,  ..., 0., 0., 0.],\n",
      "          [0., 0., 0.,  ..., 0., 0., 0.]]],\n",
      "\n",
      "\n",
      "        ...,\n",
      "\n",
      "\n",
      "        [[[0., 0., 0.,  ..., 0., 0., 0.],\n",
      "          [0., 0., 0.,  ..., 0., 0., 0.],\n",
      "          [0., 0., 0.,  ..., 0., 0., 0.],\n",
      "          ...,\n",
      "          [0., 0., 0.,  ..., 0., 0., 0.],\n",
      "          [0., 0., 0.,  ..., 0., 0., 0.],\n",
      "          [0., 0., 0.,  ..., 0., 0., 0.]]],\n",
      "\n",
      "\n",
      "        [[[0., 0., 0.,  ..., 0., 0., 0.],\n",
      "          [0., 0., 0.,  ..., 0., 0., 0.],\n",
      "          [0., 0., 0.,  ..., 0., 0., 0.],\n",
      "          ...,\n",
      "          [0., 0., 0.,  ..., 0., 0., 0.],\n",
      "          [0., 0., 0.,  ..., 0., 0., 0.],\n",
      "          [0., 0., 0.,  ..., 0., 0., 0.]]],\n",
      "\n",
      "\n",
      "        [[[0., 0., 0.,  ..., 0., 0., 0.],\n",
      "          [0., 0., 0.,  ..., 0., 0., 0.],\n",
      "          [0., 0., 0.,  ..., 0., 0., 0.],\n",
      "          ...,\n",
      "          [0., 0., 0.,  ..., 0., 0., 0.],\n",
      "          [0., 0., 0.,  ..., 0., 0., 0.],\n",
      "          [0., 0., 0.,  ..., 0., 0., 0.]]]]), tensor([1, 4, 3, 7, 4, 7, 2, 5, 3, 4, 1, 4, 8, 4, 2, 7, 2, 1, 0, 6, 1, 9, 2, 0,\n",
      "        7, 2, 1, 9, 3, 2, 3, 4, 7, 3, 4, 5, 2, 5, 4, 3, 6, 9, 3, 9, 8, 8, 9, 6,\n",
      "        3, 1, 0, 1, 9, 9, 0, 2, 8, 2, 9, 0, 9, 4, 7, 6, 0, 3, 0, 0, 1, 0, 9, 1,\n",
      "        1, 7, 7, 4, 4, 5, 9, 0, 4, 1, 9, 4, 3, 3, 9, 2, 3, 6, 5, 6, 9, 2, 9, 2,\n",
      "        2, 5, 1, 5])]\n"
     ]
    }
   ],
   "source": [
    "# Check one sample\n",
    "sample = iter(train_dataloader).next()\n",
    "print(sample)"
   ]
  },
  {
   "cell_type": "code",
   "execution_count": 7,
   "id": "b895b4b4",
   "metadata": {},
   "outputs": [],
   "source": [
    "# sample = sample[1]\n",
    "# # sample = sample.view(sample.shape[0], 28*28)\n",
    "# print(sample.shape)"
   ]
  },
  {
   "cell_type": "code",
   "execution_count": 8,
   "id": "b9a781e8",
   "metadata": {},
   "outputs": [
    {
     "data": {
      "image/png": "[encoded data removed]",
      "text/plain": [
       "<Figure size 432x288 with 6 Axes>"
      ]
     },
     "metadata": {
      "needs_background": "light"
     },
     "output_type": "display_data"
    }
   ],
   "source": [
    "# Display the first few samples in images\n",
    "for i in range(6):\n",
    "    plt.subplot(2, 3, i+1)\n",
    "    plt.imshow(sample[0][i][0], cmap='gray')\n",
    "plt.show()"
   ]
  },
  {
   "cell_type": "code",
   "execution_count": 9,
   "id": "123756da",
   "metadata": {},
   "outputs": [],
   "source": [
    "# Create FFN\n",
    "class FFN(nn.Module):\n",
    "    def __init__(self, input_size, hidden_size, num_classes):\n",
    "        super(FFN, self).__init__()\n",
    "        self.l1 = nn.Linear(input_size, hidden_size)\n",
    "        self.relu = nn.ReLU()\n",
    "        self.l2 = nn.Linear(hidden_size, num_classes)\n",
    "    \n",
    "    def forward(self, x):\n",
    "        return (self.l2(self.relu(self.l1(x))))\n",
    "        # We are not using any softmax layer or one-hot encoding the output since we are going to be using CrossEntropyLoss"
   ]
  },
  {
   "cell_type": "code",
   "execution_count": 10,
   "id": "e12f883a",
   "metadata": {},
   "outputs": [],
   "source": [
    "# Define model\n",
    "model = FFN(input_size=input_size, hidden_size=hidden_size, num_classes=num_classes).to(device) # The model has to be pushed to the device as well\n",
    "\n",
    "# Define criterion\n",
    "criterion = nn.CrossEntropyLoss() # This is a multiclass classification problem\n",
    "\n",
    "# Define optimizer\n",
    "optimizer = torch.optim.Adam(model.parameters(), lr=alpha) # The Adam optimizer will be used here"
   ]
  },
  {
   "cell_type": "code",
   "execution_count": 11,
   "id": "71f73760",
   "metadata": {},
   "outputs": [
    {
     "name": "stdout",
     "output_type": "stream",
     "text": [
      "Epoch: 1/2, step: 100/600, loss: 0.389\n",
      "Epoch: 1/2, step: 200/600, loss: 0.350\n",
      "Epoch: 1/2, step: 300/600, loss: 0.240\n",
      "Epoch: 1/2, step: 400/600, loss: 0.269\n",
      "Epoch: 1/2, step: 500/600, loss: 0.144\n",
      "Epoch: 1/2, step: 600/600, loss: 0.150\n",
      "Epoch: 2/2, step: 100/600, loss: 0.172\n",
      "Epoch: 2/2, step: 200/600, loss: 0.294\n",
      "Epoch: 2/2, step: 300/600, loss: 0.219\n",
      "Epoch: 2/2, step: 400/600, loss: 0.163\n",
      "Epoch: 2/2, step: 500/600, loss: 0.154\n",
      "Epoch: 2/2, step: 600/600, loss: 0.176\n"
     ]
    }
   ],
   "source": [
    "# Training loop\n",
    "num_iters = len(train_dataloader)\n",
    "\n",
    "for epoch in range(num_epochs):\n",
    "    for i, (images, labels) in enumerate(train_dataloader):\n",
    "        # images are of the shape 100, 1, 28, 28\n",
    "        # There are 100 images per batch\n",
    "        # Each image has 1 channel (grayscale) and 28x28 pixels\n",
    "        # The required format is 100, 784\n",
    "        # 100 samples each with 784 features (pixel values)\n",
    "        images = images.view(images.shape[0], 28*28).to(device) # Reshape the tensor and push it to device\n",
    "        labels = labels.to(device) # Also push labels to device\n",
    "        \n",
    "        # Forward propagation\n",
    "        predicted_output = model(images)\n",
    "        \n",
    "        # Loss\n",
    "        loss = criterion(predicted_output, labels)\n",
    "        \n",
    "        # Backprop\n",
    "        loss.backward()\n",
    "        \n",
    "        # Parameter update\n",
    "        optimizer.step()\n",
    "        \n",
    "        # Zero out gradients\n",
    "        optimizer.zero_grad()\n",
    "        \n",
    "        # Print some information\n",
    "        if (i+1) % 100 == 0:\n",
    "            print(f\"Epoch: {epoch+1}/{num_epochs}, step: {i+1}/{num_iters}, loss: {loss.item():.3f}\")"
   ]
  },
  {
   "cell_type": "code",
   "execution_count": 12,
   "id": "5e70e5b8",
   "metadata": {},
   "outputs": [
    {
     "name": "stdout",
     "output_type": "stream",
     "text": [
      "Accuracy: 95.570\n"
     ]
    }
   ],
   "source": [
    "# Testing and evaluation\n",
    "with torch.no_grad():\n",
    "    samples = 0\n",
    "    correct = 0\n",
    "    for i, (images, labels) in enumerate(test_dataloader):\n",
    "        # images are of the shape 100, 1, 28, 28\n",
    "        # There are 100 images per batch\n",
    "        # Each image has 1 channel (grayscale) and 28x28 pixels\n",
    "        # The required format is 100, 784\n",
    "        # 100 samples each with 784 features (pixel values)\n",
    "        images = images.view(images.shape[0], 28*28).to(device) # Reshape the tensor and push it to device\n",
    "        labels = labels.to(device) # Also push labels to device\n",
    "        \n",
    "        # Forward propagation\n",
    "        predicted_output = model(images)\n",
    "        _, predicted_output = torch.max(predicted_output, 1) # Acquire the class label\n",
    "        \n",
    "        # Overall loss\n",
    "        samples += labels.shape[0] # Number of labelled samples received\n",
    "        correct += (predicted_output==labels).sum().item() # Number of correctly predicted samples\n",
    "    \n",
    "    acc = correct / samples * 100.0\n",
    "    print(f\"Accuracy: {acc:.3f}\")"
   ]
  }
 ],
 "metadata": {
  "kernelspec": {
   "display_name": "Python 3 (ipykernel)",
   "language": "python",
   "name": "python3"
  },
  "language_info": {
   "codemirror_mode": {
    "name": "ipython",
    "version": 3
   },
   "file_extension": ".py",
   "mimetype": "text/x-python",
   "name": "python",
   "nbconvert_exporter": "python",
   "pygments_lexer": "ipython3",
   "version": "3.9.7"
  }
 },
 "nbformat": 4,
 "nbformat_minor": 5
}
