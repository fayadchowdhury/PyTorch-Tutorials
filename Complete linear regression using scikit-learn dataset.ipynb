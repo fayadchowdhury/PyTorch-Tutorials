{
 "cells": [
  {
   "cell_type": "markdown",
   "id": "9e9789cc",
   "metadata": {},
   "source": [
    "### Complete linear regression using scikit-learn dataset"
   ]
  },
  {
   "cell_type": "markdown",
   "id": "156e1fdb",
   "metadata": {},
   "source": [
    "In this notebook, we will look at a linear regression model fit on a scikit-learn regression dataset"
   ]
  },
  {
   "cell_type": "code",
   "execution_count": 1,
   "id": "f5eba64e",
   "metadata": {},
   "outputs": [],
   "source": [
    "import torch\n",
    "import torch.nn as nn\n",
    "import numpy as np\n",
    "from sklearn import datasets\n",
    "import matplotlib.pyplot as plt"
   ]
  },
  {
   "cell_type": "code",
   "execution_count": 2,
   "id": "7fa85262",
   "metadata": {},
   "outputs": [],
   "source": [
    "# Prepare data\n",
    "# 100 samples, 1 feature, some noise, random_state=1\n",
    "X, y = datasets.make_regression(n_samples=100, n_features=1, noise=20, random_state=1)"
   ]
  },
  {
   "cell_type": "code",
   "execution_count": 3,
   "id": "a94c8c89",
   "metadata": {},
   "outputs": [],
   "source": [
    "# X and y are in numpy format\n",
    "# Convert them into pytorch tensors\n",
    "X = torch.tensor(X, dtype=torch.float32)\n",
    "y = torch.tensor(y, dtype=torch.float32)"
   ]
  },
  {
   "cell_type": "code",
   "execution_count": 4,
   "id": "473913d0",
   "metadata": {},
   "outputs": [],
   "source": [
    "# y is in a single row\n",
    "# As per pytorch convention, y should have as many outputs as there are input samples\n",
    "# We will need to reshape y\n",
    "y = y.view(y.shape[0], 1) # Squash the data into 1 column"
   ]
  },
  {
   "cell_type": "code",
   "execution_count": 5,
   "id": "1ed9640e",
   "metadata": {},
   "outputs": [
    {
     "name": "stdout",
     "output_type": "stream",
     "text": [
      "Epoch 10: Loss: 4345.533\n",
      "Epoch 20: Loss: 3244.003\n",
      "Epoch 30: Loss: 2446.661\n",
      "Epoch 40: Loss: 1868.908\n",
      "Epoch 50: Loss: 1449.865\n",
      "Epoch 60: Loss: 1145.666\n",
      "Epoch 70: Loss: 924.656\n",
      "Epoch 80: Loss: 763.963\n",
      "Epoch 90: Loss: 647.045\n",
      "Epoch 100: Loss: 561.924\n",
      "Epoch 110: Loss: 499.915\n",
      "Epoch 120: Loss: 454.720\n",
      "Epoch 130: Loss: 421.762\n",
      "Epoch 140: Loss: 397.718\n",
      "Epoch 150: Loss: 380.170\n",
      "Epoch 160: Loss: 367.358\n",
      "Epoch 170: Loss: 358.001\n",
      "Epoch 180: Loss: 351.164\n",
      "Epoch 190: Loss: 346.168\n",
      "Epoch 200: Loss: 342.516\n",
      "Epoch 210: Loss: 339.846\n",
      "Epoch 220: Loss: 337.894\n",
      "Epoch 230: Loss: 336.465\n",
      "Epoch 240: Loss: 335.420\n",
      "Epoch 250: Loss: 334.656\n",
      "Epoch 260: Loss: 334.096\n",
      "Epoch 270: Loss: 333.687\n",
      "Epoch 280: Loss: 333.387\n",
      "Epoch 290: Loss: 333.168\n",
      "Epoch 300: Loss: 333.007\n",
      "Epoch 310: Loss: 332.889\n",
      "Epoch 320: Loss: 332.803\n",
      "Epoch 330: Loss: 332.740\n",
      "Epoch 340: Loss: 332.694\n",
      "Epoch 350: Loss: 332.660\n",
      "Epoch 360: Loss: 332.635\n",
      "Epoch 370: Loss: 332.617\n",
      "Epoch 380: Loss: 332.604\n",
      "Epoch 390: Loss: 332.594\n",
      "Epoch 400: Loss: 332.587\n",
      "Epoch 410: Loss: 332.582\n",
      "Epoch 420: Loss: 332.578\n",
      "Epoch 430: Loss: 332.575\n",
      "Epoch 440: Loss: 332.573\n",
      "Epoch 450: Loss: 332.572\n",
      "Epoch 460: Loss: 332.571\n",
      "Epoch 470: Loss: 332.570\n",
      "Epoch 480: Loss: 332.569\n",
      "Epoch 490: Loss: 332.569\n",
      "Epoch 500: Loss: 332.568\n"
     ]
    }
   ],
   "source": [
    "# Define the number of inputs and outputs\n",
    "num_samples, num_features = X.shape\n",
    "num_outputs = y.shape[1]\n",
    "\n",
    "# Declare the model\n",
    "model = nn.Linear(num_features, num_outputs)\n",
    "\n",
    "# Declare criterion or loss function\n",
    "criterion = nn.MSELoss()\n",
    "\n",
    "# Define hyperparameters\n",
    "alpha = 0.01 # Learning rate\n",
    "\n",
    "# Declare optimiser\n",
    "optimizer = torch.optim.SGD(model.parameters(), lr=alpha)\n",
    "\n",
    "# Training loop\n",
    "epochs = 500\n",
    "\n",
    "for epoch in range(epochs):\n",
    "    # Forward pass - prediction\n",
    "    out = model(X)\n",
    "    # Loss\n",
    "    loss = criterion(out, y)\n",
    "    # Backward\n",
    "    loss.backward()\n",
    "    # Gradient updates\n",
    "    optimizer.step()\n",
    "    # Zero out gradients\n",
    "    optimizer.zero_grad()\n",
    "    \n",
    "    # Print some info\n",
    "    if (epoch+1) % 10 == 0:\n",
    "        print(f\"Epoch {epoch+1}: Loss: {loss.item():.3f}\")"
   ]
  },
  {
   "cell_type": "code",
   "execution_count": 6,
   "id": "62a13bab",
   "metadata": {},
   "outputs": [
    {
     "data": {
      "text/plain": [
       "[<matplotlib.lines.Line2D at 0x7f752d00dc70>]"
      ]
     },
     "execution_count": 6,
     "metadata": {},
     "output_type": "execute_result"
    },
    {
     "data": {
      "image/png": "[encoded data removed]",
      "text/plain": [
       "<Figure size 432x288 with 1 Axes>"
      ]
     },
     "metadata": {
      "needs_background": "light"
     },
     "output_type": "display_data"
    }
   ],
   "source": [
    "# After the training, we may want to plot the results\n",
    "preds = model(X).detach() # We do not want this particular calculation to be part of the computational graph which is required only in training\n",
    "plt.plot(X, y, 'ro')\n",
    "plt.plot(X, preds, 'b')"
   ]
  }
 ],
 "metadata": {
  "kernelspec": {
   "display_name": "Python 3 (ipykernel)",
   "language": "python",
   "name": "python3"
  },
  "language_info": {
   "codemirror_mode": {
    "name": "ipython",
    "version": 3
   },
   "file_extension": ".py",
   "mimetype": "text/x-python",
   "name": "python",
   "nbconvert_exporter": "python",
   "pygments_lexer": "ipython3",
   "version": "3.9.7"
  }
 },
 "nbformat": 4,
 "nbformat_minor": 5
}
