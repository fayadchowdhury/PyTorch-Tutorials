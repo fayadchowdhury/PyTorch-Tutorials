{
 "cells": [
  {
   "cell_type": "markdown",
   "id": "2dddf29b",
   "metadata": {},
   "source": [
    "#### Tensorboard"
   ]
  },
  {
   "cell_type": "markdown",
   "id": "a28ea5d0",
   "metadata": {},
   "source": [
    "Tensorboard is a visualization kit built by TensorFlow. It basically creates a nice informational dashboard to track and visualize metrics such as loss and accuracy, display images, text and audio data, profiling, projecting embeddings to lower dimensional spaces etc."
   ]
  },
  {
   "cell_type": "markdown",
   "id": "c334cf72",
   "metadata": {},
   "source": [
    "We are going to use Tensorboard on our FFN that we used for the MNIST multiclass classification task."
   ]
  },
  {
   "cell_type": "code",
   "execution_count": 1,
   "id": "ec0c5668",
   "metadata": {},
   "outputs": [],
   "source": [
    "import torch\n",
    "import torch.nn as nn\n",
    "import torch.optim as optim\n",
    "import torchvision\n",
    "import numpy as np\n",
    "import matplotlib.pyplot as plt\n",
    "\n",
    "# Import tensorboard SummaryWriter\n",
    "from torch.utils.tensorboard import SummaryWriter"
   ]
  },
  {
   "cell_type": "code",
   "execution_count": 2,
   "id": "ebbc1b06",
   "metadata": {},
   "outputs": [
    {
     "name": "stdout",
     "output_type": "stream",
     "text": [
      "cuda\n"
     ]
    }
   ],
   "source": [
    "# Set device to cuda if available\n",
    "device = torch.device('cuda' if torch.cuda.is_available() else 'cpu')\n",
    "print(device)"
   ]
  },
  {
   "cell_type": "code",
   "execution_count": 3,
   "id": "9c9fabbc",
   "metadata": {},
   "outputs": [],
   "source": [
    "# Define hyperparameters\n",
    "input_size = 784 # Images are 28x28 = 784 pixels each\n",
    "hidden_size = 100 # Number of neurons in the hidden layer\n",
    "num_classes = 10 # 10 classes or digits to be predicted\n",
    "num_epochs = 2 # 2 epochs\n",
    "batch_size = 100 # 100 samples per batch\n",
    "alpha = 1e-3 # Learning rate = 0.001"
   ]
  },
  {
   "cell_type": "code",
   "execution_count": 4,
   "id": "3e608cff",
   "metadata": {},
   "outputs": [],
   "source": [
    "# Load datasets\n",
    "train_dataset = torchvision.datasets.MNIST(root=\"./data\", train=True, transform=torchvision.transforms.ToTensor(), download=True)\n",
    "test_dataset = torchvision.datasets.MNIST(root=\"./data\", train=False, transform=torchvision.transforms.ToTensor(), download=True)\n",
    "train_dataloader = torch.utils.data.DataLoader(dataset=train_dataset, batch_size=batch_size, shuffle=True)\n",
    "test_dataloader = torch.utils.data.DataLoader(dataset=test_dataset, batch_size=batch_size, shuffle=False)"
   ]
  },
  {
   "cell_type": "code",
   "execution_count": 5,
   "id": "e1a60e4d",
   "metadata": {},
   "outputs": [],
   "source": [
    "# Create tensorboard SummaryWriter\n",
    "writer = SummaryWriter(\"runs/mnist\")"
   ]
  },
  {
   "cell_type": "code",
   "execution_count": 6,
   "id": "3b7de2fb",
   "metadata": {},
   "outputs": [
    {
     "data": {
      "image/png": "[encoded data removed]",
      "text/plain": [
       "<Figure size 432x288 with 6 Axes>"
      ]
     },
     "metadata": {
      "needs_background": "light"
     },
     "output_type": "display_data"
    }
   ],
   "source": [
    "# Check sample\n",
    "sample = iter(train_dataloader).next() # Next batch of 100 samples\n",
    "\n",
    "# Display the first few samples in images\n",
    "for i in range(6):\n",
    "    plt.subplot(2, 3, i+1)\n",
    "    plt.imshow(sample[0][i][0], cmap='gray')\n",
    "# plt.show()\n",
    "\n",
    "# Write this to the Tensorboard\n",
    "img_grid = torchvision.utils.make_grid(sample[0])\n",
    "writer.add_image('mnist_images', img_grid)\n",
    "# writer.close()"
   ]
  },
  {
   "cell_type": "code",
   "execution_count": 7,
   "id": "5ae1478a",
   "metadata": {},
   "outputs": [],
   "source": [
    "# Create FFN\n",
    "class FFN(nn.Module):\n",
    "    def __init__(self, input_size, hidden_size, num_classes):\n",
    "        super(FFN, self).__init__()\n",
    "        self.l1 = nn.Linear(input_size, hidden_size)\n",
    "        self.relu = nn.ReLU()\n",
    "        self.l2 = nn.Linear(hidden_size, num_classes)\n",
    "    \n",
    "    def forward(self, x):\n",
    "        return (self.l2(self.relu(self.l1(x))))\n",
    "        # We are not using any softmax layer or one-hot encoding the output since we are going to be using CrossEntropyLoss"
   ]
  },
  {
   "cell_type": "code",
   "execution_count": 8,
   "id": "da587c8b",
   "metadata": {},
   "outputs": [],
   "source": [
    "# Define model\n",
    "model = FFN(input_size=input_size, hidden_size=hidden_size, num_classes=num_classes)\n",
    "\n",
    "# Define criterion\n",
    "criterion = nn.CrossEntropyLoss() # This is a multiclass classification problem\n",
    "\n",
    "# Define optimizer\n",
    "optimizer = torch.optim.Adam(model.parameters(), lr=alpha) # The Adam optimizer will be used here"
   ]
  },
  {
   "cell_type": "code",
   "execution_count": 9,
   "id": "4721b703",
   "metadata": {
    "scrolled": false
   },
   "outputs": [],
   "source": [
    "# Write model graph to tensorboard\n",
    "writer.add_graph(model, sample[0].reshape(-1, 28*28))\n",
    "# writer.close()"
   ]
  },
  {
   "cell_type": "code",
   "execution_count": 10,
   "id": "2d11bebb",
   "metadata": {},
   "outputs": [],
   "source": [
    "model = model.to(device) # The model has to be pushed to the device as well"
   ]
  },
  {
   "cell_type": "code",
   "execution_count": 11,
   "id": "b754d94f",
   "metadata": {},
   "outputs": [
    {
     "name": "stdout",
     "output_type": "stream",
     "text": [
      "Epoch: 1/2, step: 100/600, loss: 0.415\n",
      "Epoch: 1/2, step: 200/600, loss: 0.342\n",
      "Epoch: 1/2, step: 300/600, loss: 0.379\n",
      "Epoch: 1/2, step: 400/600, loss: 0.279\n",
      "Epoch: 1/2, step: 500/600, loss: 0.292\n",
      "Epoch: 1/2, step: 600/600, loss: 0.199\n",
      "Epoch: 2/2, step: 100/600, loss: 0.182\n",
      "Epoch: 2/2, step: 200/600, loss: 0.213\n",
      "Epoch: 2/2, step: 300/600, loss: 0.184\n",
      "Epoch: 2/2, step: 400/600, loss: 0.189\n",
      "Epoch: 2/2, step: 500/600, loss: 0.133\n",
      "Epoch: 2/2, step: 600/600, loss: 0.166\n"
     ]
    }
   ],
   "source": [
    "# Training loop\n",
    "num_iters = len(train_dataloader)\n",
    "\n",
    "# Stats for Tensorboard\n",
    "running_loss = 0.0\n",
    "running_correct = 0.0\n",
    "\n",
    "for epoch in range(num_epochs):\n",
    "    for i, (images, labels) in enumerate(train_dataloader):\n",
    "        # images are of the shape 100, 1, 28, 28\n",
    "        # There are 100 images per batch\n",
    "        # Each image has 1 channel (grayscale) and 28x28 pixels\n",
    "        # The required format is 100, 784\n",
    "        # 100 samples each with 784 features (pixel values)\n",
    "        images = images.view(images.shape[0], 28*28).to(device) # Reshape the tensor and push it to device\n",
    "        labels = labels.to(device) # Also push labels to device\n",
    "        \n",
    "        # Forward propagation\n",
    "        predicted_output = model(images)\n",
    "        \n",
    "        # Also add the number of correctly predicted samples to the running number of correctly predicted samples\n",
    "        _, predictions = torch.max(predicted_output, 1)\n",
    "        running_correct += (predictions == labels).sum().item()\n",
    "        \n",
    "        # Loss\n",
    "        loss = criterion(predicted_output, labels)\n",
    "        \n",
    "        # Also add the loss to the running loss\n",
    "        running_loss += loss.item()\n",
    "        \n",
    "        # Backprop\n",
    "        loss.backward()\n",
    "        \n",
    "        # Parameter update\n",
    "        optimizer.step()\n",
    "        \n",
    "        # Zero out gradients\n",
    "        optimizer.zero_grad()\n",
    "        \n",
    "        # Print some information\n",
    "        if (i+1) % 100 == 0:\n",
    "            print(f\"Epoch: {epoch+1}/{num_epochs}, step: {i+1}/{num_iters}, loss: {loss.item():.3f}\")\n",
    "            \n",
    "            # Also add training loss to the Tensorboard\n",
    "            writer.add_scalar(\"Training loss\", running_loss / 100, epoch * num_iters + i)\n",
    "            \n",
    "            # Also add training accuracy to the Tensorboard\n",
    "            writer.add_scalar(\"Training accuracy\", running_correct / 100, epoch * num_iters + i)\n",
    "            \n",
    "            # Zero out the running loss and accuracy for every batch\n",
    "            running_loss = 0.0\n",
    "            running_correct = 0.0"
   ]
  },
  {
   "cell_type": "markdown",
   "id": "2da5a528",
   "metadata": {},
   "source": [
    "It is also possible to add multiple plots to the same graph by changing the running log directory in the definition of the SummaryWriter."
   ]
  },
  {
   "cell_type": "code",
   "execution_count": 13,
   "id": "d83bc930",
   "metadata": {},
   "outputs": [],
   "source": [
    "# Close the writer at the end of everything\n",
    "writer.close()"
   ]
  },
  {
   "cell_type": "markdown",
   "id": "ae04fe0f",
   "metadata": {},
   "source": [
    "It is also possible to do ROC curves and so on and so forth as per the requirement of the task and analysis of the model."
   ]
  }
 ],
 "metadata": {
  "kernelspec": {
   "display_name": "Python 3 (ipykernel)",
   "language": "python",
   "name": "python3"
  },
  "language_info": {
   "codemirror_mode": {
    "name": "ipython",
    "version": 3
   },
   "file_extension": ".py",
   "mimetype": "text/x-python",
   "name": "python",
   "nbconvert_exporter": "python",
   "pygments_lexer": "ipython3",
   "version": "3.9.7"
  }
 },
 "nbformat": 4,
 "nbformat_minor": 5
}
