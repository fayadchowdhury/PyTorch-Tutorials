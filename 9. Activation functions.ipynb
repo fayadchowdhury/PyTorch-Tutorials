{
 "cells": [
  {
   "cell_type": "markdown",
   "id": "40be58fc",
   "metadata": {},
   "source": [
    "#### Activation functions"
   ]
  },
  {
   "cell_type": "markdown",
   "id": "76256fa4",
   "metadata": {},
   "source": [
    "Activation functions are non-linear transformations to decide whether a neuron should be activated or not, i.e. whether its output is important or not."
   ]
  },
  {
   "cell_type": "markdown",
   "id": "b7022200",
   "metadata": {},
   "source": [
    "Without activation functions, the entire network would be entirely linear and the model would not learn much."
   ]
  },
  {
   "cell_type": "markdown",
   "id": "30ac05c7",
   "metadata": {},
   "source": [
    "Popular activation functions include:\n",
    "<ul>\n",
    "    <li>Step function</li>\n",
    "    <li>Sigmoid function</li>\n",
    "    <li>Rectified linear unit (ReLU) function</li>\n",
    "    <li>Leaky rectified rectified linear unit (leaky ReLU) function</li>\n",
    "    <li>Tan hyperbolic function (tanh) function</li>\n",
    "    <li>Softmax function</li>\n",
    "</ul>"
   ]
  },
  {
   "cell_type": "markdown",
   "id": "5288477d",
   "metadata": {},
   "source": [
    "There are two ways to incorporate activation functions in PyTorch models:\n",
    "<ul>\n",
    "    <li>Define the activation function layers (nn.ReLU, nn.Sigmoid for example) in the init function and then call them in the forward fucntion</li>\n",
    "    <li>Call the corresponding torch function directly in the forward function</li>\n",
    "</ul>"
   ]
  },
  {
   "cell_type": "code",
   "execution_count": 1,
   "id": "e3dba52c",
   "metadata": {},
   "outputs": [],
   "source": [
    "import torch\n",
    "import torch.nn as nn"
   ]
  },
  {
   "cell_type": "code",
   "execution_count": 2,
   "id": "7d426730",
   "metadata": {},
   "outputs": [],
   "source": [
    "# Method 1\n",
    "class NeuralNetwork1(nn.Module):\n",
    "    def __init__(self, input_size, hidden_size):\n",
    "        super(NeuralNetwork1, self).__init__()\n",
    "        self.linear1 = nn.Linear(input_size, hidden_size)\n",
    "        self.relu = nn.ReLU() # or nn.LeakyReLU, nn.Tanh\n",
    "        self.linear2 = nn.Linear(hidden_size, 1)\n",
    "        self.sigmoid = nn.Sigmoid()\n",
    "        \n",
    "    def forward(self, x):\n",
    "        out = self.linear1(x)\n",
    "        out = self.relu(out)\n",
    "        out = self.linear2(out)\n",
    "        out = self.sigmoid(out)\n",
    "        return out"
   ]
  },
  {
   "cell_type": "code",
   "execution_count": 3,
   "id": "b11f5943",
   "metadata": {},
   "outputs": [],
   "source": [
    "# Method 2\n",
    "class NeuralNetwork2(nn.Module):\n",
    "    def __init__(self, input_size, hidden_size):\n",
    "        super(NeuralNetwork2, self).__init__()\n",
    "        self.linear1 = nn.Linear(input_size, hidden_size)\n",
    "        self.linear2 = nn.Linear(hidden_size, 1)\n",
    "        \n",
    "    def forward(self, x):\n",
    "        out = torch.relu(self.linear1(x)) # or torch.tanh, torch.softmax etc.\n",
    "        # To get Leaky ReLU, use torch.nn.functional.leaky_relu\n",
    "        out = torch.sigmoid(self.linear2(out))\n",
    "        return out"
   ]
  }
 ],
 "metadata": {
  "kernelspec": {
   "display_name": "Python 3 (ipykernel)",
   "language": "python",
   "name": "python3"
  },
  "language_info": {
   "codemirror_mode": {
    "name": "ipython",
    "version": 3
   },
   "file_extension": ".py",
   "mimetype": "text/x-python",
   "name": "python",
   "nbconvert_exporter": "python",
   "pygments_lexer": "ipython3",
   "version": "3.9.7"
  }
 },
 "nbformat": 4,
 "nbformat_minor": 5
}
