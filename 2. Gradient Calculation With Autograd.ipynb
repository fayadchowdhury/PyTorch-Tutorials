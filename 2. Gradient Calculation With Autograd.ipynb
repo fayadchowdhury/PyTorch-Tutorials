{
 "cells": [
  {
   "cell_type": "markdown",
   "id": "93b2b7f2",
   "metadata": {},
   "source": [
    "### Gradients with autograd"
   ]
  },
  {
   "cell_type": "markdown",
   "id": "9e91d57f",
   "metadata": {},
   "source": [
    "Gradients are essential in machine learning and autograd helps us to automatically calculate gradients in long computational graphs"
   ]
  },
  {
   "cell_type": "code",
   "execution_count": 1,
   "id": "5ea888df",
   "metadata": {},
   "outputs": [],
   "source": [
    "import torch"
   ]
  },
  {
   "cell_type": "markdown",
   "id": "41d16a5b",
   "metadata": {},
   "source": [
    "If we want to calculate the gradient of some function of x with respect to x, we have to add the requires_grad=True parameter to the declaration of x"
   ]
  },
  {
   "cell_type": "code",
   "execution_count": 2,
   "id": "eef4d75b",
   "metadata": {
    "scrolled": false
   },
   "outputs": [
    {
     "name": "stdout",
     "output_type": "stream",
     "text": [
      "tensor([-0.4134, -1.2041,  1.2125], requires_grad=True)\n"
     ]
    }
   ],
   "source": [
    "x = torch.randn(3, requires_grad=True)\n",
    "print(x)"
   ]
  },
  {
   "cell_type": "markdown",
   "id": "ed6b3a5d",
   "metadata": {},
   "source": [
    "Now let us define a function of x, and then calculate the gradient of that function with respect to x"
   ]
  },
  {
   "cell_type": "code",
   "execution_count": 3,
   "id": "e54a5f2f",
   "metadata": {},
   "outputs": [
    {
     "name": "stdout",
     "output_type": "stream",
     "text": [
      "tensor([1.5866, 0.7959, 3.2125], grad_fn=<AddBackward0>)\n"
     ]
    }
   ],
   "source": [
    "y = x + 2 # This is a simple linear function\n",
    "\n",
    "# y has an attribute called grad_fn that helps in calculating the gradient\n",
    "print(y)"
   ]
  },
  {
   "cell_type": "code",
   "execution_count": 4,
   "id": "22b98140",
   "metadata": {},
   "outputs": [
    {
     "name": "stdout",
     "output_type": "stream",
     "text": [
      "tensor([ 5.0344,  1.2668, 20.6400], grad_fn=<MulBackward0>)\n"
     ]
    }
   ],
   "source": [
    "z = 2*y**2 # z is a function of y which in turn is a function of x\n",
    "print(z)"
   ]
  },
  {
   "cell_type": "code",
   "execution_count": 5,
   "id": "125a2d5e",
   "metadata": {},
   "outputs": [
    {
     "name": "stdout",
     "output_type": "stream",
     "text": [
      "tensor(8.9804, grad_fn=<MeanBackward0>)\n"
     ]
    }
   ],
   "source": [
    "a = z.mean() # a is a function of z which is eventually a function of x\n",
    "print(a)"
   ]
  },
  {
   "cell_type": "markdown",
   "id": "418f9787",
   "metadata": {},
   "source": [
    "Each function records in its grad_fn attribute the steps taken from the initial requires_grad variable to get to this stage in the computational graph. These steps are then reversed in the backpropagation to help with gradient calculation."
   ]
  },
  {
   "cell_type": "markdown",
   "id": "6b3fbbee",
   "metadata": {},
   "source": [
    "To calculate the gradient of a with respect to x, we call a.backward(). To check the values of the gradient with respect to x, we call x.grad."
   ]
  },
  {
   "cell_type": "code",
   "execution_count": 6,
   "id": "dc8caea4",
   "metadata": {},
   "outputs": [],
   "source": [
    "# a.backward() # Calculates da/dx"
   ]
  },
  {
   "cell_type": "code",
   "execution_count": 7,
   "id": "907d554d",
   "metadata": {},
   "outputs": [],
   "source": [
    "# print(x.grad)"
   ]
  },
  {
   "cell_type": "markdown",
   "id": "45a8d876",
   "metadata": {},
   "source": [
    "It is important to note that gradients can be calculated implicitly like this only for single value tensors or scalars. This is why calling z.backward() will result in an error (since z is a 1D tensor or an array)."
   ]
  },
  {
   "cell_type": "markdown",
   "id": "878d1b8c",
   "metadata": {},
   "source": [
    "In the background, what backward() does is essentially create a vector Jacobian matrix (with the partial derivatives) and multiplies it with a gradient vector, to get the final gradients that we want. "
   ]
  },
  {
   "cell_type": "markdown",
   "id": "649e1b8d",
   "metadata": {},
   "source": [
    "To make the backward() function work with vectors, we have to pass a vector as an argument to the backward() function. This vector has to be the same size as the vector whose gradient we are calculating."
   ]
  },
  {
   "cell_type": "code",
   "execution_count": 8,
   "id": "f7f678c7",
   "metadata": {},
   "outputs": [],
   "source": [
    "g = torch.randn(z.shape)"
   ]
  },
  {
   "cell_type": "code",
   "execution_count": 9,
   "id": "252d98db",
   "metadata": {},
   "outputs": [
    {
     "name": "stdout",
     "output_type": "stream",
     "text": [
      "tensor([-0.6132,  4.8666, 14.6377])\n"
     ]
    }
   ],
   "source": [
    "# For this to work, we had to do 2 things\n",
    "# 1. Pass in a tensor (vector) g of the same size\n",
    "# as z to the backward() function\n",
    "# 2. Comment out the first backward() call on a\n",
    "# since there cannot be two backward() calls on\n",
    "# the same computational graph\n",
    "\n",
    "z.backward(g)\n",
    "print(x.grad)"
   ]
  },
  {
   "cell_type": "markdown",
   "id": "9ada6172",
   "metadata": {},
   "source": [
    "It is also important to note that backward cannot be called twice on the same computational graph without the retain_graph=True parameter. "
   ]
  },
  {
   "cell_type": "markdown",
   "id": "856f2216",
   "metadata": {},
   "source": [
    "It should be noted that the gradient calculation should not involve any weight updates. This is done in 3 ways:\n",
    "<ul>\n",
    "    <li>requires_grad=False</li>\n",
    "    <li>x.detach() where x is the weight parameter</li>\n",
    "    <li>with torch.no_grad():</li>\n",
    "</ul>"
   ]
  },
  {
   "cell_type": "code",
   "execution_count": 12,
   "id": "759ea576",
   "metadata": {},
   "outputs": [],
   "source": [
    "a = torch.randn(3, requires_grad=True)\n",
    "b = torch.randn(3, requires_grad=True)\n",
    "c = b.detach()\n",
    "d = a + c\n",
    "d.backward(torch.randn(d.shape)) # This works because at least one of the parameters of the function has requires_grad=True"
   ]
  },
  {
   "cell_type": "code",
   "execution_count": 16,
   "id": "0ce4c17e",
   "metadata": {},
   "outputs": [
    {
     "name": "stdout",
     "output_type": "stream",
     "text": [
      "tensor([ 0.1189, -0.5598, -2.7388])\n",
      "None\n",
      "None\n"
     ]
    }
   ],
   "source": [
    "print(a.grad) # Prints gradient values\n",
    "print(b.grad) # Prints None since there is no gradient calculation done here\n",
    "print(c.grad) # Prints None since there is no gradient calculation done here"
   ]
  },
  {
   "cell_type": "code",
   "execution_count": 18,
   "id": "fe73769e",
   "metadata": {},
   "outputs": [
    {
     "ename": "RuntimeError",
     "evalue": "element 0 of tensors does not require grad and does not have a grad_fn",
     "output_type": "error",
     "traceback": [
      "\u001b[0;31m---------------------------------------------------------------------------\u001b[0m",
      "\u001b[0;31mRuntimeError\u001b[0m                              Traceback (most recent call last)",
      "\u001b[0;32m/tmp/ipykernel_184610/1373586393.py\u001b[0m in \u001b[0;36m<module>\u001b[0;34m\u001b[0m\n\u001b[1;32m      1\u001b[0m \u001b[0me\u001b[0m \u001b[0;34m=\u001b[0m \u001b[0mc\u001b[0m\u001b[0;34m**\u001b[0m\u001b[0;36m2\u001b[0m\u001b[0;34m\u001b[0m\u001b[0;34m\u001b[0m\u001b[0m\n\u001b[0;32m----> 2\u001b[0;31m \u001b[0me\u001b[0m\u001b[0;34m.\u001b[0m\u001b[0mbackward\u001b[0m\u001b[0;34m(\u001b[0m\u001b[0;34m)\u001b[0m \u001b[0;31m## This does not work since c is detached and therefore does not have the requires_grad=True parameter\u001b[0m\u001b[0;34m\u001b[0m\u001b[0;34m\u001b[0m\u001b[0m\n\u001b[0m",
      "\u001b[0;32m~/anaconda3/envs/ml/lib/python3.9/site-packages/torch/_tensor.py\u001b[0m in \u001b[0;36mbackward\u001b[0;34m(self, gradient, retain_graph, create_graph, inputs)\u001b[0m\n\u001b[1;32m    305\u001b[0m                 \u001b[0mcreate_graph\u001b[0m\u001b[0;34m=\u001b[0m\u001b[0mcreate_graph\u001b[0m\u001b[0;34m,\u001b[0m\u001b[0;34m\u001b[0m\u001b[0;34m\u001b[0m\u001b[0m\n\u001b[1;32m    306\u001b[0m                 inputs=inputs)\n\u001b[0;32m--> 307\u001b[0;31m         \u001b[0mtorch\u001b[0m\u001b[0;34m.\u001b[0m\u001b[0mautograd\u001b[0m\u001b[0;34m.\u001b[0m\u001b[0mbackward\u001b[0m\u001b[0;34m(\u001b[0m\u001b[0mself\u001b[0m\u001b[0;34m,\u001b[0m \u001b[0mgradient\u001b[0m\u001b[0;34m,\u001b[0m \u001b[0mretain_graph\u001b[0m\u001b[0;34m,\u001b[0m \u001b[0mcreate_graph\u001b[0m\u001b[0;34m,\u001b[0m \u001b[0minputs\u001b[0m\u001b[0;34m=\u001b[0m\u001b[0minputs\u001b[0m\u001b[0;34m)\u001b[0m\u001b[0;34m\u001b[0m\u001b[0;34m\u001b[0m\u001b[0m\n\u001b[0m\u001b[1;32m    308\u001b[0m \u001b[0;34m\u001b[0m\u001b[0m\n\u001b[1;32m    309\u001b[0m     \u001b[0;32mdef\u001b[0m \u001b[0mregister_hook\u001b[0m\u001b[0;34m(\u001b[0m\u001b[0mself\u001b[0m\u001b[0;34m,\u001b[0m \u001b[0mhook\u001b[0m\u001b[0;34m)\u001b[0m\u001b[0;34m:\u001b[0m\u001b[0;34m\u001b[0m\u001b[0;34m\u001b[0m\u001b[0m\n",
      "\u001b[0;32m~/anaconda3/envs/ml/lib/python3.9/site-packages/torch/autograd/__init__.py\u001b[0m in \u001b[0;36mbackward\u001b[0;34m(tensors, grad_tensors, retain_graph, create_graph, grad_variables, inputs)\u001b[0m\n\u001b[1;32m    152\u001b[0m         \u001b[0mretain_graph\u001b[0m \u001b[0;34m=\u001b[0m \u001b[0mcreate_graph\u001b[0m\u001b[0;34m\u001b[0m\u001b[0;34m\u001b[0m\u001b[0m\n\u001b[1;32m    153\u001b[0m \u001b[0;34m\u001b[0m\u001b[0m\n\u001b[0;32m--> 154\u001b[0;31m     Variable._execution_engine.run_backward(\n\u001b[0m\u001b[1;32m    155\u001b[0m         \u001b[0mtensors\u001b[0m\u001b[0;34m,\u001b[0m \u001b[0mgrad_tensors_\u001b[0m\u001b[0;34m,\u001b[0m \u001b[0mretain_graph\u001b[0m\u001b[0;34m,\u001b[0m \u001b[0mcreate_graph\u001b[0m\u001b[0;34m,\u001b[0m \u001b[0minputs\u001b[0m\u001b[0;34m,\u001b[0m\u001b[0;34m\u001b[0m\u001b[0;34m\u001b[0m\u001b[0m\n\u001b[1;32m    156\u001b[0m         allow_unreachable=True, accumulate_grad=True)  # allow_unreachable flag\n",
      "\u001b[0;31mRuntimeError\u001b[0m: element 0 of tensors does not require grad and does not have a grad_fn"
     ]
    }
   ],
   "source": [
    "e = c**2\n",
    "e.backward() ## This does not work since c is detached and therefore does not have the requires_grad=True parameter"
   ]
  },
  {
   "cell_type": "code",
   "execution_count": 19,
   "id": "ab3bc387",
   "metadata": {},
   "outputs": [
    {
     "name": "stdout",
     "output_type": "stream",
     "text": [
      "tensor([-0.7367, -0.5727,  1.9858])\n"
     ]
    }
   ],
   "source": [
    "with torch.no_grad():\n",
    "    y = a*b\n",
    "    print(y) # y does not have the grad_fn attribute since gradients are not going to be calculated for it"
   ]
  },
  {
   "cell_type": "markdown",
   "id": "bbf632fc",
   "metadata": {},
   "source": [
    "#### A dummy example"
   ]
  },
  {
   "cell_type": "code",
   "execution_count": 20,
   "id": "b24d8602",
   "metadata": {},
   "outputs": [
    {
     "name": "stdout",
     "output_type": "stream",
     "text": [
      "tensor([3., 3., 3., 3.])\n",
      "tensor([6., 6., 6., 6.])\n",
      "tensor([9., 9., 9., 9.])\n",
      "tensor([12., 12., 12., 12.])\n"
     ]
    }
   ],
   "source": [
    "weights = torch.ones(4, requires_grad=True)\n",
    "\n",
    "for epoch in range(4):\n",
    "    model_output = (weights*3).sum() # Results in one scalar value\n",
    "    model_output.backward() # Calculates gradient of model_output with respect to weights\n",
    "    print(weights.grad)"
   ]
  },
  {
   "cell_type": "markdown",
   "id": "35a25e93",
   "metadata": {},
   "source": [
    "The above output is explained as such. Everytime the gradient values are 3 as per the model_output function. However, they keep getting accumulated in the weights.grad, resulting in the 3s, 6s, 9s and 12s."
   ]
  },
  {
   "cell_type": "code",
   "execution_count": 21,
   "id": "b0074bf4",
   "metadata": {},
   "outputs": [
    {
     "name": "stdout",
     "output_type": "stream",
     "text": [
      "tensor([3., 3., 3., 3.])\n",
      "tensor([3., 3., 3., 3.])\n",
      "tensor([3., 3., 3., 3.])\n",
      "tensor([3., 3., 3., 3.])\n"
     ]
    }
   ],
   "source": [
    "weights = torch.ones(4, requires_grad=True)\n",
    "\n",
    "for epoch in range(4):\n",
    "    model_output = (weights*3).sum() # Results in one scalar value\n",
    "    model_output.backward() # Calculates gradient of model_output with respect to weights\n",
    "    print(weights.grad)\n",
    "    weights.grad.zero_() # Zeroes out the gradient in place"
   ]
  },
  {
   "cell_type": "markdown",
   "id": "7289a964",
   "metadata": {},
   "source": [
    "It is important to zero out the gradients before every update/optimisation step as well."
   ]
  },
  {
   "cell_type": "code",
   "execution_count": 24,
   "id": "c8f962f2",
   "metadata": {},
   "outputs": [
    {
     "name": "stdout",
     "output_type": "stream",
     "text": [
      "tensor([1., 1., 1., 1.], requires_grad=True)\n"
     ]
    },
    {
     "ename": "TypeError",
     "evalue": "params argument given to the optimizer should be an iterable of Tensors or dicts, but got torch.FloatTensor",
     "output_type": "error",
     "traceback": [
      "\u001b[0;31m---------------------------------------------------------------------------\u001b[0m",
      "\u001b[0;31mTypeError\u001b[0m                                 Traceback (most recent call last)",
      "\u001b[0;32m/tmp/ipykernel_184610/3452119461.py\u001b[0m in \u001b[0;36m<module>\u001b[0;34m\u001b[0m\n\u001b[1;32m      1\u001b[0m \u001b[0mprint\u001b[0m\u001b[0;34m(\u001b[0m\u001b[0mweights\u001b[0m\u001b[0;34m)\u001b[0m\u001b[0;34m\u001b[0m\u001b[0;34m\u001b[0m\u001b[0m\n\u001b[0;32m----> 2\u001b[0;31m \u001b[0moptimizer\u001b[0m \u001b[0;34m=\u001b[0m \u001b[0mtorch\u001b[0m\u001b[0;34m.\u001b[0m\u001b[0moptim\u001b[0m\u001b[0;34m.\u001b[0m\u001b[0mSGD\u001b[0m\u001b[0;34m(\u001b[0m\u001b[0mweights\u001b[0m\u001b[0;34m,\u001b[0m \u001b[0mlr\u001b[0m\u001b[0;34m=\u001b[0m\u001b[0;36m0.01\u001b[0m\u001b[0;34m)\u001b[0m\u001b[0;34m\u001b[0m\u001b[0;34m\u001b[0m\u001b[0m\n\u001b[0m\u001b[1;32m      3\u001b[0m \u001b[0moptimizer\u001b[0m\u001b[0;34m.\u001b[0m\u001b[0mstep\u001b[0m\u001b[0;34m(\u001b[0m\u001b[0;34m)\u001b[0m \u001b[0;31m# One optimisation step of the stochastic gradient descent algorithm\u001b[0m\u001b[0;34m\u001b[0m\u001b[0;34m\u001b[0m\u001b[0m\n\u001b[1;32m      4\u001b[0m \u001b[0mprint\u001b[0m\u001b[0;34m(\u001b[0m\u001b[0mweights\u001b[0m\u001b[0;34m.\u001b[0m\u001b[0mgrad\u001b[0m\u001b[0;34m)\u001b[0m \u001b[0;31m# Should print current gradients\u001b[0m\u001b[0;34m\u001b[0m\u001b[0;34m\u001b[0m\u001b[0m\n\u001b[1;32m      5\u001b[0m \u001b[0moptimizer\u001b[0m\u001b[0;34m.\u001b[0m\u001b[0mzero_grad\u001b[0m\u001b[0;34m(\u001b[0m\u001b[0;34m)\u001b[0m \u001b[0;31m# Zeroes out the gradients\u001b[0m\u001b[0;34m\u001b[0m\u001b[0;34m\u001b[0m\u001b[0m\n",
      "\u001b[0;32m~/anaconda3/envs/ml/lib/python3.9/site-packages/torch/optim/sgd.py\u001b[0m in \u001b[0;36m__init__\u001b[0;34m(self, params, lr, momentum, dampening, weight_decay, nesterov)\u001b[0m\n\u001b[1;32m     93\u001b[0m         \u001b[0;32mif\u001b[0m \u001b[0mnesterov\u001b[0m \u001b[0;32mand\u001b[0m \u001b[0;34m(\u001b[0m\u001b[0mmomentum\u001b[0m \u001b[0;34m<=\u001b[0m \u001b[0;36m0\u001b[0m \u001b[0;32mor\u001b[0m \u001b[0mdampening\u001b[0m \u001b[0;34m!=\u001b[0m \u001b[0;36m0\u001b[0m\u001b[0;34m)\u001b[0m\u001b[0;34m:\u001b[0m\u001b[0;34m\u001b[0m\u001b[0;34m\u001b[0m\u001b[0m\n\u001b[1;32m     94\u001b[0m             \u001b[0;32mraise\u001b[0m \u001b[0mValueError\u001b[0m\u001b[0;34m(\u001b[0m\u001b[0;34m\"Nesterov momentum requires a momentum and zero dampening\"\u001b[0m\u001b[0;34m)\u001b[0m\u001b[0;34m\u001b[0m\u001b[0;34m\u001b[0m\u001b[0m\n\u001b[0;32m---> 95\u001b[0;31m         \u001b[0msuper\u001b[0m\u001b[0;34m(\u001b[0m\u001b[0mSGD\u001b[0m\u001b[0;34m,\u001b[0m \u001b[0mself\u001b[0m\u001b[0;34m)\u001b[0m\u001b[0;34m.\u001b[0m\u001b[0m__init__\u001b[0m\u001b[0;34m(\u001b[0m\u001b[0mparams\u001b[0m\u001b[0;34m,\u001b[0m \u001b[0mdefaults\u001b[0m\u001b[0;34m)\u001b[0m\u001b[0;34m\u001b[0m\u001b[0;34m\u001b[0m\u001b[0m\n\u001b[0m\u001b[1;32m     96\u001b[0m \u001b[0;34m\u001b[0m\u001b[0m\n\u001b[1;32m     97\u001b[0m     \u001b[0;32mdef\u001b[0m \u001b[0m__setstate__\u001b[0m\u001b[0;34m(\u001b[0m\u001b[0mself\u001b[0m\u001b[0;34m,\u001b[0m \u001b[0mstate\u001b[0m\u001b[0;34m)\u001b[0m\u001b[0;34m:\u001b[0m\u001b[0;34m\u001b[0m\u001b[0;34m\u001b[0m\u001b[0m\n",
      "\u001b[0;32m~/anaconda3/envs/ml/lib/python3.9/site-packages/torch/optim/optimizer.py\u001b[0m in \u001b[0;36m__init__\u001b[0;34m(self, params, defaults)\u001b[0m\n\u001b[1;32m     38\u001b[0m \u001b[0;34m\u001b[0m\u001b[0m\n\u001b[1;32m     39\u001b[0m         \u001b[0;32mif\u001b[0m \u001b[0misinstance\u001b[0m\u001b[0;34m(\u001b[0m\u001b[0mparams\u001b[0m\u001b[0;34m,\u001b[0m \u001b[0mtorch\u001b[0m\u001b[0;34m.\u001b[0m\u001b[0mTensor\u001b[0m\u001b[0;34m)\u001b[0m\u001b[0;34m:\u001b[0m\u001b[0;34m\u001b[0m\u001b[0;34m\u001b[0m\u001b[0m\n\u001b[0;32m---> 40\u001b[0;31m             raise TypeError(\"params argument given to the optimizer should be \"\n\u001b[0m\u001b[1;32m     41\u001b[0m                             \u001b[0;34m\"an iterable of Tensors or dicts, but got \"\u001b[0m \u001b[0;34m+\u001b[0m\u001b[0;34m\u001b[0m\u001b[0;34m\u001b[0m\u001b[0m\n\u001b[1;32m     42\u001b[0m                             torch.typename(params))\n",
      "\u001b[0;31mTypeError\u001b[0m: params argument given to the optimizer should be an iterable of Tensors or dicts, but got torch.FloatTensor"
     ]
    }
   ],
   "source": [
    "optimizer = torch.optim.SGD(weights, lr=0.01)\n",
    "optimizer.step() # One optimisation step of the stochastic gradient descent algorithm\n",
    "print(weights.grad) # Should print current gradients\n",
    "optimizer.zero_grad() # Zeroes out the gradients\n",
    "print(weights.grad) # Should print None"
   ]
  },
  {
   "cell_type": "markdown",
   "id": "bbe0a665",
   "metadata": {},
   "source": [
    "The above doesn't work, but we will fix this in the next few notebooks."
   ]
  }
 ],
 "metadata": {
  "kernelspec": {
   "display_name": "Python 3 (ipykernel)",
   "language": "python",
   "name": "python3"
  },
  "language_info": {
   "codemirror_mode": {
    "name": "ipython",
    "version": 3
   },
   "file_extension": ".py",
   "mimetype": "text/x-python",
   "name": "python",
   "nbconvert_exporter": "python",
   "pygments_lexer": "ipython3",
   "version": "3.9.7"
  }
 },
 "nbformat": 4,
 "nbformat_minor": 5
}
