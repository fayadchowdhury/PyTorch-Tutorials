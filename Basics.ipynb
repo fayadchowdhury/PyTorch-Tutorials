{
 "cells": [
  {
   "cell_type": "markdown",
   "id": "b560b5b4",
   "metadata": {},
   "source": [
    "### PyTorch and Tensors"
   ]
  },
  {
   "cell_type": "markdown",
   "id": "b38ec258",
   "metadata": {},
   "source": [
    "Developed by Facebook's AI Research (FAIR) Lab, PyTorch is an open source machine learning library based on the Torch library. It is used for applications such as computer vision, natural language processing etc."
   ]
  },
  {
   "cell_type": "markdown",
   "id": "d263ce72",
   "metadata": {},
   "source": [
    "A tensor is a container which can house data in N dimensions, along with its linear operations.\n",
    "\n",
    "0D -> Scalar\n",
    "\n",
    "1D -> Vector (array)\n",
    "\n",
    "2D -> Matrix (array of arrays)\n",
    "\n",
    "3+D -> Tensors of higher rank or dimensionality"
   ]
  },
  {
   "cell_type": "code",
   "execution_count": 15,
   "id": "2cad2301",
   "metadata": {},
   "outputs": [],
   "source": [
    "import torch\n",
    "import numpy as np"
   ]
  },
  {
   "cell_type": "code",
   "execution_count": 6,
   "id": "e2261bbd",
   "metadata": {},
   "outputs": [
    {
     "name": "stdout",
     "output_type": "stream",
     "text": [
      "tensor([[1.5605e+06, 4.5857e-41, 1.5605e+06],\n",
      "        [4.5857e-41, 1.0041e-09, 3.0716e-41],\n",
      "        [9.9599e-10, 3.0716e-41, 1.4013e-45],\n",
      "        [0.0000e+00, 0.0000e+00, 1.7283e-04],\n",
      "        [2.6590e+23, 4.2249e-05, 4.6243e-44]])\n"
     ]
    }
   ],
   "source": [
    "## Creating an empty tensor of a given shape\n",
    "shape = (5, 3)\n",
    "x = torch.empty(shape)\n",
    "\n",
    "print(x)"
   ]
  },
  {
   "cell_type": "code",
   "execution_count": 8,
   "id": "0e31ca9e",
   "metadata": {},
   "outputs": [
    {
     "name": "stdout",
     "output_type": "stream",
     "text": [
      "tensor([[0.5493, 0.9622, 0.1751],\n",
      "        [0.5209, 0.9567, 0.3764],\n",
      "        [0.8732, 0.4641, 0.6027],\n",
      "        [0.3197, 0.8999, 0.2844],\n",
      "        [0.7771, 0.4252, 0.0919]])\n"
     ]
    }
   ],
   "source": [
    "## Creating a tensor of random values of a given shape\n",
    "x = torch.rand(shape)\n",
    "\n",
    "print(x)"
   ]
  },
  {
   "cell_type": "code",
   "execution_count": 9,
   "id": "4d2e3003",
   "metadata": {},
   "outputs": [
    {
     "name": "stdout",
     "output_type": "stream",
     "text": [
      "tensor([[0., 0., 0.],\n",
      "        [0., 0., 0.],\n",
      "        [0., 0., 0.],\n",
      "        [0., 0., 0.],\n",
      "        [0., 0., 0.]])\n"
     ]
    }
   ],
   "source": [
    "# Creating a tensor of zeros of a given shape\n",
    "x = torch.zeros(shape)\n",
    "\n",
    "print(x)"
   ]
  },
  {
   "cell_type": "code",
   "execution_count": 10,
   "id": "59fbe37f",
   "metadata": {},
   "outputs": [
    {
     "name": "stdout",
     "output_type": "stream",
     "text": [
      "tensor([[1., 1., 1.],\n",
      "        [1., 1., 1.],\n",
      "        [1., 1., 1.],\n",
      "        [1., 1., 1.],\n",
      "        [1., 1., 1.]])\n"
     ]
    }
   ],
   "source": [
    "# Creating a tensor of ones of a given shape\n",
    "x = torch.ones(shape)\n",
    "\n",
    "print(x)"
   ]
  },
  {
   "cell_type": "code",
   "execution_count": 12,
   "id": "6657be52",
   "metadata": {},
   "outputs": [
    {
     "name": "stdout",
     "output_type": "stream",
     "text": [
      "tensor([[0.8208, 0.0671, 0.8645],\n",
      "        [0.0383, 0.7097, 0.7919],\n",
      "        [0.3006, 0.0215, 0.7505],\n",
      "        [0.7470, 0.5493, 0.1431],\n",
      "        [0.1064, 0.9183, 0.8379]], dtype=torch.float64)\n"
     ]
    }
   ],
   "source": [
    "# Creating a tensor of random numbers of specified dtypes of a given shape\n",
    "x = torch.rand(shape, dtype=torch.double)\n",
    "\n",
    "print(x)"
   ]
  },
  {
   "cell_type": "code",
   "execution_count": 13,
   "id": "9f19c4d6",
   "metadata": {},
   "outputs": [
    {
     "name": "stdout",
     "output_type": "stream",
     "text": [
      "torch.Size([5, 3])\n"
     ]
    }
   ],
   "source": [
    "## Printing the size of a tensor\n",
    "print(x.size()) ## Elements accessible with the [] operator"
   ]
  },
  {
   "cell_type": "code",
   "execution_count": 21,
   "id": "79cd0b25",
   "metadata": {},
   "outputs": [
    {
     "name": "stdout",
     "output_type": "stream",
     "text": [
      "tensor([[ 1,  2,  3,  4],\n",
      "        [ 5,  6,  7,  8],\n",
      "        [ 9, 10, 11, 12]])\n"
     ]
    }
   ],
   "source": [
    "## Creating a tensor from a numpy array or a regular list\n",
    "nums = np.array([[1, 2, 3, 4],\n",
    "                  [5, 6, 7, 8],\n",
    "                  [9, 10, 11, 12]])\n",
    "x = torch.tensor(nums)\n",
    "\n",
    "print(x)"
   ]
  },
  {
   "cell_type": "code",
   "execution_count": 33,
   "id": "0255a4cd",
   "metadata": {},
   "outputs": [
    {
     "name": "stdout",
     "output_type": "stream",
     "text": [
      "[[ 1  2  3  4]\n",
      " [ 5  6  7  8]\n",
      " [ 9 10 11 12]]\n"
     ]
    }
   ],
   "source": [
    "## Creating a numpy array from a tensor\n",
    "numsNew = x.cpu().detach().numpy() ## Detaches from the GPU and converts to numpy array\n",
    "\n",
    "print(numsNew)"
   ]
  },
  {
   "cell_type": "markdown",
   "id": "7259d044",
   "metadata": {},
   "source": [
    "NOTE: A NumPy ndarray is the class and array() is the function call that creates an ndarray."
   ]
  },
  {
   "cell_type": "code",
   "execution_count": 36,
   "id": "62b4b780",
   "metadata": {},
   "outputs": [
    {
     "name": "stdout",
     "output_type": "stream",
     "text": [
      "tensor([[ 2,  4,  6,  8],\n",
      "        [10, 12, 14, 16],\n",
      "        [18, 20, 22, 24]])\n",
      "tensor([[0, 0, 0, 0],\n",
      "        [0, 0, 0, 0],\n",
      "        [0, 0, 0, 0]])\n"
     ]
    }
   ],
   "source": [
    "## Adding/subtracting two tensors\n",
    "y = torch.tensor(numsNew)\n",
    "\n",
    "z = x + y ## z = torch.add(x, y) has the same effect\n",
    "z1 = x - y ## z = torch.sub(x, y) has the same effect\n",
    "print(z)\n",
    "print(z1)"
   ]
  },
  {
   "cell_type": "code",
   "execution_count": 37,
   "id": "6b55eecc",
   "metadata": {},
   "outputs": [
    {
     "name": "stdout",
     "output_type": "stream",
     "text": [
      "tensor([[ 2,  4,  6,  8],\n",
      "        [10, 12, 14, 16],\n",
      "        [18, 20, 22, 24]])\n"
     ]
    }
   ],
   "source": [
    "## Addition/subtraction in-place\n",
    "y.add_(x) ## Every function in PyTorch with a trailing underscore will do an in-place operation\n",
    "print(y)"
   ]
  },
  {
   "cell_type": "code",
   "execution_count": 40,
   "id": "5800481a",
   "metadata": {},
   "outputs": [
    {
     "name": "stdout",
     "output_type": "stream",
     "text": [
      "tensor([[  2,   8,  18,  32],\n",
      "        [ 50,  72,  98, 128],\n",
      "        [162, 200, 242, 288]])\n",
      "tensor([[0.5000, 0.5000, 0.5000, 0.5000],\n",
      "        [0.5000, 0.5000, 0.5000, 0.5000],\n",
      "        [0.5000, 0.5000, 0.5000, 0.5000]])\n"
     ]
    }
   ],
   "source": [
    "## Multiplying/dividing two tensors\n",
    "z = x * y ## Element-wise multiplication (dot product)\n",
    "z1 = x / y ## Element-wise division\n",
    "print(z)\n",
    "print(z1)"
   ]
  },
  {
   "cell_type": "code",
   "execution_count": 42,
   "id": "87775263",
   "metadata": {},
   "outputs": [
    {
     "name": "stdout",
     "output_type": "stream",
     "text": [
      "tensor([ 3,  7, 11])\n",
      "tensor([5, 6, 7, 8])\n"
     ]
    }
   ],
   "source": [
    "## Slicing operations using the [] operator\n",
    "print(x[:, 2]) ## All rows, 2th column (prints a row for some reason)\n",
    "print(x[1, :]) ## 1th row, all columns"
   ]
  },
  {
   "cell_type": "code",
   "execution_count": 46,
   "id": "7a56c179",
   "metadata": {},
   "outputs": [
    {
     "name": "stdout",
     "output_type": "stream",
     "text": [
      "tensor([[0.4355, 0.7209, 0.8918, 0.4781],\n",
      "        [0.0526, 0.3758, 0.9294, 0.2838],\n",
      "        [0.6136, 0.9023, 0.4720, 0.5345],\n",
      "        [0.7002, 0.1711, 0.1932, 0.7559]])\n",
      "tensor([[0.4355, 0.7209, 0.8918, 0.4781, 0.0526, 0.3758, 0.9294, 0.2838],\n",
      "        [0.6136, 0.9023, 0.4720, 0.5345, 0.7002, 0.1711, 0.1932, 0.7559]])\n",
      "tensor([[0.4355, 0.7209],\n",
      "        [0.8918, 0.4781],\n",
      "        [0.0526, 0.3758],\n",
      "        [0.9294, 0.2838],\n",
      "        [0.6136, 0.9023],\n",
      "        [0.4720, 0.5345],\n",
      "        [0.7002, 0.1711],\n",
      "        [0.1932, 0.7559]])\n",
      "tensor([[0.4355, 0.7209, 0.8918, 0.4781, 0.0526, 0.3758, 0.9294, 0.2838],\n",
      "        [0.6136, 0.9023, 0.4720, 0.5345, 0.7002, 0.1711, 0.1932, 0.7559]])\n",
      "tensor([[[0.4355, 0.7209],\n",
      "         [0.8918, 0.4781]],\n",
      "\n",
      "        [[0.0526, 0.3758],\n",
      "         [0.9294, 0.2838]],\n",
      "\n",
      "        [[0.6136, 0.9023],\n",
      "         [0.4720, 0.5345]],\n",
      "\n",
      "        [[0.7002, 0.1711],\n",
      "         [0.1932, 0.7559]]])\n"
     ]
    }
   ],
   "source": [
    "## Reshaping\n",
    "a = torch.rand([4, 4], dtype=torch.float32) ## 4 rows, 4 columns\n",
    "print(a)\n",
    "b = a.view(2, 8) ## 2 rows, 8 columns\n",
    "print(b)\n",
    "c = a.view(8, 2) ## 8 rows, 2 columns\n",
    "print(c)\n",
    "d = a.view(-1, 8) ## Automatically decide rows, 8 columns\n",
    "print(d)\n",
    "e = a.view([4, 2, 2]) ## 4 of 2 rows, 2 columns\n",
    "print(e)"
   ]
  },
  {
   "cell_type": "code",
   "execution_count": 47,
   "id": "9a08ea62",
   "metadata": {},
   "outputs": [
    {
     "name": "stdout",
     "output_type": "stream",
     "text": [
      "Device 0: NVIDIA GeForce GTX 1050 Ti\n"
     ]
    }
   ],
   "source": [
    "## Checking for GPU support\n",
    "\n",
    "if torch.cuda.is_available():\n",
    "    for i in range(torch.cuda.device_count()):\n",
    "        print(\"Device {}: {}\".format(i, torch.cuda.get_device_name(i)))"
   ]
  },
  {
   "cell_type": "code",
   "execution_count": 52,
   "id": "caa04584",
   "metadata": {},
   "outputs": [],
   "source": [
    "## Setting device = GPU\n",
    "\n",
    "if torch.cuda.is_available():\n",
    "    device = torch.device(\"cuda\")"
   ]
  },
  {
   "cell_type": "code",
   "execution_count": 53,
   "id": "79c4f2bd",
   "metadata": {},
   "outputs": [
    {
     "name": "stdout",
     "output_type": "stream",
     "text": [
      "tensor([[ 1,  2,  3,  4],\n",
      "        [ 5,  6,  7,  8],\n",
      "        [ 9, 10, 11, 12]], device='cuda:0')\n"
     ]
    }
   ],
   "source": [
    "x = x.to(device) ## Takes the tensor x to GPU\n",
    "print(x)"
   ]
  },
  {
   "cell_type": "code",
   "execution_count": 55,
   "id": "0adf5dfe",
   "metadata": {},
   "outputs": [
    {
     "ename": "TypeError",
     "evalue": "can't convert cuda:0 device type tensor to numpy. Use Tensor.cpu() to copy the tensor to host memory first.",
     "output_type": "error",
     "traceback": [
      "\u001B[0;31m---------------------------------------------------------------------------\u001B[0m",
      "\u001B[0;31mTypeError\u001B[0m                                 Traceback (most recent call last)",
      "\u001B[0;32m/tmp/ipykernel_49202/2625512795.py\u001B[0m in \u001B[0;36m<module>\u001B[0;34m\u001B[0m\n\u001B[1;32m      1\u001B[0m \u001B[0;31m## The following fails because the tensor is currently on the GPU and needs to be detached from the GPU and transferred to the CPU\u001B[0m\u001B[0;34m\u001B[0m\u001B[0;34m\u001B[0m\u001B[0m\n\u001B[0;32m----> 2\u001B[0;31m \u001B[0mcpuz\u001B[0m \u001B[0;34m=\u001B[0m \u001B[0mx\u001B[0m\u001B[0;34m.\u001B[0m\u001B[0mnumpy\u001B[0m\u001B[0;34m(\u001B[0m\u001B[0;34m)\u001B[0m\u001B[0;34m\u001B[0m\u001B[0;34m\u001B[0m\u001B[0m\n\u001B[0m\u001B[1;32m      3\u001B[0m \u001B[0mprint\u001B[0m\u001B[0;34m(\u001B[0m\u001B[0mcpuz\u001B[0m\u001B[0;34m)\u001B[0m\u001B[0;34m\u001B[0m\u001B[0;34m\u001B[0m\u001B[0m\n",
      "\u001B[0;31mTypeError\u001B[0m: can't convert cuda:0 device type tensor to numpy. Use Tensor.cpu() to copy the tensor to host memory first."
     ]
    }
   ],
   "source": [
    "## The following fails because the tensor is currently on the GPU and needs to be detached from the GPU and transferred to the CPU\n",
    "cpuz = x.numpy()\n",
    "print(cpuz)"
   ]
  },
  {
   "cell_type": "code",
   "execution_count": 56,
   "id": "e9751433",
   "metadata": {},
   "outputs": [
    {
     "name": "stdout",
     "output_type": "stream",
     "text": [
      "[[ 1  2  3  4]\n",
      " [ 5  6  7  8]\n",
      " [ 9 10 11 12]]\n"
     ]
    }
   ],
   "source": [
    "cpuz = x.cpu().detach().numpy()\n",
    "print(cpuz)"
   ]
  },
  {
   "cell_type": "markdown",
   "id": "78bc89ac",
   "metadata": {},
   "source": [
    "That's about it for now."
   ]
  },
  {
   "cell_type": "code",
   "execution_count": null,
   "id": "b0f418d0",
   "metadata": {},
   "outputs": [],
   "source": []
  }
 ],
 "metadata": {
  "kernelspec": {
   "display_name": "Python 3 (ipykernel)",
   "language": "python",
   "name": "python3"
  },
  "language_info": {
   "codemirror_mode": {
    "name": "ipython",
    "version": 3
   },
   "file_extension": ".py",
   "mimetype": "text/x-python",
   "name": "python",
   "nbconvert_exporter": "python",
   "pygments_lexer": "ipython3",
   "version": "3.9.7"
  }
 },
 "nbformat": 4,
 "nbformat_minor": 5
}