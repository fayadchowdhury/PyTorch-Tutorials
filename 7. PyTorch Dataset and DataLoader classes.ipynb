{
 "cells": [
  {
   "cell_type": "markdown",
   "id": "bde689a9",
   "metadata": {},
   "source": [
    "#### PyTorch Dataset and DataLoader classes"
   ]
  },
  {
   "cell_type": "markdown",
   "id": "4d8a5c6a",
   "metadata": {},
   "source": [
    "It is often time-consuming to compute the gradient on entire datasets. It is a better idea to split the dataset into batches and calculate gradients on those batches. This is an implementation of mini-batch gradient descent."
   ]
  },
  {
   "cell_type": "markdown",
   "id": "d8759476",
   "metadata": {},
   "source": [
    "1 epoch = 1 complete forward and 1 complete backward pass over <b>all</b> training samples in the dataset\n",
    "\n",
    "batch_size = number of training samples in 1 complete forward and 1 complete backward pass\n",
    "\n",
    "number of iterations = number of passes (complete forward and complete backward pass = 1 pass), each pass using batch_size number of samples\n",
    "\n",
    "e.g.\n",
    "100 samples, batch_size 20:<br>\n",
    "1 epoch has 100/20 = 5 iterations\n",
    "1 iteration goes over 20 samples\n",
    "1 epoch goes over all 100 samples"
   ]
  },
  {
   "cell_type": "code",
   "execution_count": 1,
   "id": "5b68c28e",
   "metadata": {},
   "outputs": [],
   "source": [
    "import torch\n",
    "import torchvision\n",
    "from torch.utils.data import Dataset, DataLoader\n",
    "import numpy as np\n",
    "import pandas as pd\n",
    "import math"
   ]
  },
  {
   "cell_type": "markdown",
   "id": "f697dcab",
   "metadata": {},
   "source": [
    "When implementing the Dataset class, the __init__() (used to load data), __getitem__() (used for indexing) and the __len__() (used to get the total number of samples) methods must be implemented "
   ]
  },
  {
   "cell_type": "code",
   "execution_count": 2,
   "id": "ce54e650",
   "metadata": {},
   "outputs": [],
   "source": [
    "class WineDataset(Dataset):\n",
    "    def __init__(self):\n",
    "        # Data loading\n",
    "        xy = np.loadtxt('wine.csv', delimiter=',', dtype=np.float32, skiprows=1) # Loads the dataset ignoring the 1st row (headers) and using a delimiter of ','\n",
    "        self.X = xy[:, 1:] # Features (depends on dataset)\n",
    "        self.X = torch.tensor(self.X, dtype=torch.float32) # Convert to tensor\n",
    "        self.y = xy[:, [0]] # Outputs\n",
    "        self.y = torch.tensor(self.y, dtype=torch.float32) # Convert to tensor\n",
    "        self.num_samples = xy.shape[0] # Number of samples\n",
    "    \n",
    "    def __getitem__(self, index):\n",
    "        # Returns data at particular index\n",
    "        return self.X[index], self.y[index]\n",
    "    \n",
    "    def __len__(self):\n",
    "        # Returns length of dataset\n",
    "        return self.num_samples"
   ]
  },
  {
   "cell_type": "code",
   "execution_count": 3,
   "id": "e12fae1c",
   "metadata": {},
   "outputs": [],
   "source": [
    "# Create the dataset\n",
    "dataset = WineDataset()"
   ]
  },
  {
   "cell_type": "code",
   "execution_count": 4,
   "id": "a6e292f5",
   "metadata": {},
   "outputs": [
    {
     "name": "stdout",
     "output_type": "stream",
     "text": [
      "(tensor([1.4230e+01, 1.7100e+00, 2.4300e+00, 1.5600e+01, 1.2700e+02, 2.8000e+00,\n",
      "        3.0600e+00, 2.8000e-01, 2.2900e+00, 5.6400e+00, 1.0400e+00, 3.9200e+00,\n",
      "        1.0650e+03]), tensor([1.]))\n"
     ]
    }
   ],
   "source": [
    "# Check the first row\n",
    "first_row = dataset[0]\n",
    "print(first_row) # Prints first row of data from dataset with features at 0th index and output at 1th index"
   ]
  },
  {
   "cell_type": "code",
   "execution_count": 5,
   "id": "4cc6a2e9",
   "metadata": {},
   "outputs": [],
   "source": [
    "# Use DataLoader with dataset\n",
    "dataloader = DataLoader(dataset=dataset, batch_size=4, shuffle=True, num_workers=2) # Specifies dataset to load with a batch size of 4 and shuffling; num_workers splits the process into multiple threads making the data loading process faster"
   ]
  },
  {
   "cell_type": "code",
   "execution_count": 6,
   "id": "a5213bc3",
   "metadata": {},
   "outputs": [
    {
     "name": "stdout",
     "output_type": "stream",
     "text": [
      "tensor([[1.3860e+01, 1.5100e+00, 2.6700e+00, 2.5000e+01, 8.6000e+01, 2.9500e+00,\n",
      "         2.8600e+00, 2.1000e-01, 1.8700e+00, 3.3800e+00, 1.3600e+00, 3.1600e+00,\n",
      "         4.1000e+02],\n",
      "        [1.2370e+01, 1.0700e+00, 2.1000e+00, 1.8500e+01, 8.8000e+01, 3.5200e+00,\n",
      "         3.7500e+00, 2.4000e-01, 1.9500e+00, 4.5000e+00, 1.0400e+00, 2.7700e+00,\n",
      "         6.6000e+02],\n",
      "        [1.2370e+01, 1.1700e+00, 1.9200e+00, 1.9600e+01, 7.8000e+01, 2.1100e+00,\n",
      "         2.0000e+00, 2.7000e-01, 1.0400e+00, 4.6800e+00, 1.1200e+00, 3.4800e+00,\n",
      "         5.1000e+02],\n",
      "        [1.3940e+01, 1.7300e+00, 2.2700e+00, 1.7400e+01, 1.0800e+02, 2.8800e+00,\n",
      "         3.5400e+00, 3.2000e-01, 2.0800e+00, 8.9000e+00, 1.1200e+00, 3.1000e+00,\n",
      "         1.2600e+03]]) tensor([[2.],\n",
      "        [2.],\n",
      "        [2.],\n",
      "        [1.]])\n"
     ]
    }
   ],
   "source": [
    "# To access the next batch of data\n",
    "dataiter = iter(dataloader)\n",
    "features, labels = dataiter.next()\n",
    "print(features, labels)"
   ]
  },
  {
   "cell_type": "code",
   "execution_count": 7,
   "id": "1db4726d",
   "metadata": {},
   "outputs": [
    {
     "name": "stdout",
     "output_type": "stream",
     "text": [
      "178\n",
      "45\n"
     ]
    }
   ],
   "source": [
    "print(len(dataset)) # Length of dataset\n",
    "print(len(dataloader)) # Number of batches"
   ]
  },
  {
   "cell_type": "code",
   "execution_count": 8,
   "id": "91c8a030",
   "metadata": {},
   "outputs": [
    {
     "name": "stdout",
     "output_type": "stream",
     "text": [
      "Epoch: 1/4 Batch: 5/45 Input size: torch.Size([4, 13])\n",
      "Epoch: 1/4 Batch: 10/45 Input size: torch.Size([4, 13])\n",
      "Epoch: 1/4 Batch: 15/45 Input size: torch.Size([4, 13])\n",
      "Epoch: 1/4 Batch: 20/45 Input size: torch.Size([4, 13])\n",
      "Epoch: 1/4 Batch: 25/45 Input size: torch.Size([4, 13])\n",
      "Epoch: 1/4 Batch: 30/45 Input size: torch.Size([4, 13])\n",
      "Epoch: 1/4 Batch: 35/45 Input size: torch.Size([4, 13])\n",
      "Epoch: 1/4 Batch: 40/45 Input size: torch.Size([4, 13])\n",
      "Epoch: 1/4 Batch: 45/45 Input size: torch.Size([2, 13])\n",
      "Epoch: 2/4 Batch: 5/45 Input size: torch.Size([4, 13])\n",
      "Epoch: 2/4 Batch: 10/45 Input size: torch.Size([4, 13])\n",
      "Epoch: 2/4 Batch: 15/45 Input size: torch.Size([4, 13])\n",
      "Epoch: 2/4 Batch: 20/45 Input size: torch.Size([4, 13])\n",
      "Epoch: 2/4 Batch: 25/45 Input size: torch.Size([4, 13])\n",
      "Epoch: 2/4 Batch: 30/45 Input size: torch.Size([4, 13])\n",
      "Epoch: 2/4 Batch: 35/45 Input size: torch.Size([4, 13])\n",
      "Epoch: 2/4 Batch: 40/45 Input size: torch.Size([4, 13])\n",
      "Epoch: 2/4 Batch: 45/45 Input size: torch.Size([2, 13])\n",
      "Epoch: 3/4 Batch: 5/45 Input size: torch.Size([4, 13])\n",
      "Epoch: 3/4 Batch: 10/45 Input size: torch.Size([4, 13])\n",
      "Epoch: 3/4 Batch: 15/45 Input size: torch.Size([4, 13])\n",
      "Epoch: 3/4 Batch: 20/45 Input size: torch.Size([4, 13])\n",
      "Epoch: 3/4 Batch: 25/45 Input size: torch.Size([4, 13])\n",
      "Epoch: 3/4 Batch: 30/45 Input size: torch.Size([4, 13])\n",
      "Epoch: 3/4 Batch: 35/45 Input size: torch.Size([4, 13])\n",
      "Epoch: 3/4 Batch: 40/45 Input size: torch.Size([4, 13])\n",
      "Epoch: 3/4 Batch: 45/45 Input size: torch.Size([2, 13])\n",
      "Epoch: 4/4 Batch: 5/45 Input size: torch.Size([4, 13])\n",
      "Epoch: 4/4 Batch: 10/45 Input size: torch.Size([4, 13])\n",
      "Epoch: 4/4 Batch: 15/45 Input size: torch.Size([4, 13])\n",
      "Epoch: 4/4 Batch: 20/45 Input size: torch.Size([4, 13])\n",
      "Epoch: 4/4 Batch: 25/45 Input size: torch.Size([4, 13])\n",
      "Epoch: 4/4 Batch: 30/45 Input size: torch.Size([4, 13])\n",
      "Epoch: 4/4 Batch: 35/45 Input size: torch.Size([4, 13])\n",
      "Epoch: 4/4 Batch: 40/45 Input size: torch.Size([4, 13])\n",
      "Epoch: 4/4 Batch: 45/45 Input size: torch.Size([2, 13])\n"
     ]
    }
   ],
   "source": [
    "# Complete (dummy) training loop\n",
    "# Hyperparameters\n",
    "num_epochs = 4\n",
    "num_iterations = len(dataloader) # Number of batches = number of iterations\n",
    "\n",
    "for epoch in range(num_epochs):\n",
    "    # Go over all batches\n",
    "    for batch, (inputs, outputs) in enumerate(dataloader):\n",
    "        if (batch + 1) % 5 == 0:\n",
    "            print(f\"Epoch: {epoch+1}/{num_epochs} Batch: {batch+1}/{num_iterations} Input size: {inputs.shape}\")\n",
    "            # Forward pass\n",
    "            # Loss calculation\n",
    "            # Backward pass\n",
    "            # Update parameters\n",
    "            # Zero out gradients"
   ]
  },
  {
   "cell_type": "markdown",
   "id": "4d32c935",
   "metadata": {},
   "source": [
    "There are 45 batches out of which 44 of them contain 4 samples and 1 contains 2 samples for a total of 178 samples."
   ]
  },
  {
   "cell_type": "markdown",
   "id": "fb56213c",
   "metadata": {},
   "source": [
    "This loop calculates the gradient over each batch and then updates the parameters batch-to-batch for one epoch. It performs the updates over all the epochs in this manner."
   ]
  }
 ],
 "metadata": {
  "kernelspec": {
   "display_name": "Python 3 (ipykernel)",
   "language": "python",
   "name": "python3"
  },
  "language_info": {
   "codemirror_mode": {
    "name": "ipython",
    "version": 3
   },
   "file_extension": ".py",
   "mimetype": "text/x-python",
   "name": "python",
   "nbconvert_exporter": "python",
   "pygments_lexer": "ipython3",
   "version": "3.9.7"
  }
 },
 "nbformat": 4,
 "nbformat_minor": 5
}
