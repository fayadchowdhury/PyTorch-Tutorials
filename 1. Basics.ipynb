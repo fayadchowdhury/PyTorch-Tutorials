{
 "cells": [
  {
   "cell_type": "markdown",
   "id": "b560b5b4",
   "metadata": {},
   "source": [
    "### PyTorch and Tensors"
   ]
  },
  {
   "cell_type": "markdown",
   "id": "b38ec258",
   "metadata": {},
   "source": [
    "Developed by Facebook's AI Research (FAIR) Lab, PyTorch is an open source machine learning library based on the Torch library. It is used for applications such as computer vision, natural language processing etc."
   ]
  },
  {
   "cell_type": "markdown",
   "id": "d263ce72",
   "metadata": {},
   "source": [
    "A tensor is a container which can house data in N dimensions, along with its linear operations.\n",
    "\n",
    "0D -> Scalar\n",
    "\n",
    "1D -> Vector (array)\n",
    "\n",
    "2D -> Matrix (array of arrays)\n",
    "\n",
    "3+D -> Tensors of higher rank or dimensionality"
   ]
  },
  {
   "cell_type": "code",
   "execution_count": 1,
   "id": "2cad2301",
   "metadata": {},
   "outputs": [],
   "source": [
    "import torch\n",
    "import numpy as np"
   ]
  },
  {
   "cell_type": "code",
   "execution_count": 2,
   "id": "e2261bbd",
   "metadata": {},
   "outputs": [
    {
     "name": "stdout",
     "output_type": "stream",
     "text": [
      "tensor([[ 0.0000e+00,  1.5846e+29,  2.3107e-27],\n",
      "        [-8.5899e+09,  7.0065e-45,  0.0000e+00],\n",
      "        [ 0.0000e+00,  0.0000e+00,  0.0000e+00],\n",
      "        [ 0.0000e+00,  0.0000e+00,  0.0000e+00],\n",
      "        [ 0.0000e+00,  0.0000e+00,  0.0000e+00]])\n"
     ]
    }
   ],
   "source": [
    "## Creating an empty tensor of a given shape\n",
    "shape = (5, 3)\n",
    "x = torch.empty(shape)\n",
    "\n",
    "print(x)"
   ]
  },
  {
   "cell_type": "code",
   "execution_count": 3,
   "id": "0e31ca9e",
   "metadata": {},
   "outputs": [
    {
     "name": "stdout",
     "output_type": "stream",
     "text": [
      "tensor([[0.0121, 0.0587, 0.9526],\n",
      "        [0.4655, 0.4284, 0.7594],\n",
      "        [0.5471, 0.4732, 0.1096],\n",
      "        [0.6987, 0.8884, 0.8324],\n",
      "        [0.1934, 0.0522, 0.2373]])\n"
     ]
    }
   ],
   "source": [
    "## Creating a tensor of random values of a given shape\n",
    "x = torch.rand(shape)\n",
    "\n",
    "print(x)"
   ]
  },
  {
   "cell_type": "code",
   "execution_count": 4,
   "id": "4d2e3003",
   "metadata": {},
   "outputs": [
    {
     "name": "stdout",
     "output_type": "stream",
     "text": [
      "tensor([[0., 0., 0.],\n",
      "        [0., 0., 0.],\n",
      "        [0., 0., 0.],\n",
      "        [0., 0., 0.],\n",
      "        [0., 0., 0.]])\n"
     ]
    }
   ],
   "source": [
    "# Creating a tensor of zeros of a given shape\n",
    "x = torch.zeros(shape)\n",
    "\n",
    "print(x)"
   ]
  },
  {
   "cell_type": "code",
   "execution_count": 5,
   "id": "59fbe37f",
   "metadata": {},
   "outputs": [
    {
     "name": "stdout",
     "output_type": "stream",
     "text": [
      "tensor([[1., 1., 1.],\n",
      "        [1., 1., 1.],\n",
      "        [1., 1., 1.],\n",
      "        [1., 1., 1.],\n",
      "        [1., 1., 1.]])\n"
     ]
    }
   ],
   "source": [
    "# Creating a tensor of ones of a given shape\n",
    "x = torch.ones(shape)\n",
    "\n",
    "print(x)"
   ]
  },
  {
   "cell_type": "code",
   "execution_count": 6,
   "id": "6657be52",
   "metadata": {},
   "outputs": [
    {
     "name": "stdout",
     "output_type": "stream",
     "text": [
      "tensor([[0.7297, 0.1495, 0.3958],\n",
      "        [0.5480, 0.7403, 0.3543],\n",
      "        [0.7686, 0.4018, 0.0118],\n",
      "        [0.2544, 0.1475, 0.6391],\n",
      "        [0.6724, 0.4286, 0.7417]], dtype=torch.float64)\n"
     ]
    }
   ],
   "source": [
    "# Creating a tensor of random numbers of specified dtypes of a given shape\n",
    "x = torch.rand(shape, dtype=torch.double)\n",
    "\n",
    "print(x)"
   ]
  },
  {
   "cell_type": "code",
   "execution_count": 7,
   "id": "9f19c4d6",
   "metadata": {},
   "outputs": [
    {
     "name": "stdout",
     "output_type": "stream",
     "text": [
      "torch.Size([5, 3])\n"
     ]
    }
   ],
   "source": [
    "## Printing the size of a tensor\n",
    "print(x.size()) ## Elements accessible with the [] operator"
   ]
  },
  {
   "cell_type": "code",
   "execution_count": 8,
   "id": "79cd0b25",
   "metadata": {},
   "outputs": [
    {
     "name": "stdout",
     "output_type": "stream",
     "text": [
      "tensor([[ 1,  2,  3,  4],\n",
      "        [ 5,  6,  7,  8],\n",
      "        [ 9, 10, 11, 12]])\n"
     ]
    }
   ],
   "source": [
    "## Creating a tensor from a numpy array or a regular list\n",
    "nums = np.array([[1, 2, 3, 4],\n",
    "                  [5, 6, 7, 8],\n",
    "                  [9, 10, 11, 12]])\n",
    "x = torch.tensor(nums)\n",
    "\n",
    "print(x)"
   ]
  },
  {
   "cell_type": "code",
   "execution_count": 9,
   "id": "0255a4cd",
   "metadata": {},
   "outputs": [
    {
     "name": "stdout",
     "output_type": "stream",
     "text": [
      "[[ 1  2  3  4]\n",
      " [ 5  6  7  8]\n",
      " [ 9 10 11 12]]\n"
     ]
    }
   ],
   "source": [
    "## Creating a numpy array from a tensor\n",
    "numsNew = x.cpu().detach().numpy() ## Detaches from the GPU and converts to numpy array\n",
    "\n",
    "print(numsNew)"
   ]
  },
  {
   "cell_type": "markdown",
   "id": "7259d044",
   "metadata": {},
   "source": [
    "NOTE: A NumPy ndarray is the class and array() is the function call that creates an ndarray."
   ]
  },
  {
   "cell_type": "code",
   "execution_count": 10,
   "id": "62b4b780",
   "metadata": {},
   "outputs": [
    {
     "name": "stdout",
     "output_type": "stream",
     "text": [
      "tensor([[ 2,  4,  6,  8],\n",
      "        [10, 12, 14, 16],\n",
      "        [18, 20, 22, 24]])\n",
      "tensor([[0, 0, 0, 0],\n",
      "        [0, 0, 0, 0],\n",
      "        [0, 0, 0, 0]])\n"
     ]
    }
   ],
   "source": [
    "## Adding/subtracting two tensors\n",
    "y = torch.tensor(numsNew)\n",
    "\n",
    "z = x + y ## z = torch.add(x, y) has the same effect\n",
    "z1 = x - y ## z = torch.sub(x, y) has the same effect\n",
    "print(z)\n",
    "print(z1)"
   ]
  },
  {
   "cell_type": "code",
   "execution_count": 11,
   "id": "6b55eecc",
   "metadata": {},
   "outputs": [
    {
     "name": "stdout",
     "output_type": "stream",
     "text": [
      "tensor([[ 2,  4,  6,  8],\n",
      "        [10, 12, 14, 16],\n",
      "        [18, 20, 22, 24]])\n"
     ]
    }
   ],
   "source": [
    "## Addition/subtraction in-place\n",
    "y.add_(x) ## Every function in PyTorch with a trailing underscore will do an in-place operation\n",
    "print(y)"
   ]
  },
  {
   "cell_type": "code",
   "execution_count": 12,
   "id": "5800481a",
   "metadata": {},
   "outputs": [
    {
     "name": "stdout",
     "output_type": "stream",
     "text": [
      "tensor([[  2,   8,  18,  32],\n",
      "        [ 50,  72,  98, 128],\n",
      "        [162, 200, 242, 288]])\n",
      "tensor([[0.5000, 0.5000, 0.5000, 0.5000],\n",
      "        [0.5000, 0.5000, 0.5000, 0.5000],\n",
      "        [0.5000, 0.5000, 0.5000, 0.5000]])\n"
     ]
    }
   ],
   "source": [
    "## Multiplying/dividing two tensors\n",
    "z = x * y ## Element-wise multiplication (dot product)\n",
    "z1 = x / y ## Element-wise division\n",
    "print(z)\n",
    "print(z1)"
   ]
  },
  {
   "cell_type": "code",
   "execution_count": 13,
   "id": "87775263",
   "metadata": {},
   "outputs": [
    {
     "name": "stdout",
     "output_type": "stream",
     "text": [
      "tensor([ 3,  7, 11])\n",
      "tensor([5, 6, 7, 8])\n"
     ]
    }
   ],
   "source": [
    "## Slicing operations using the [] operator\n",
    "print(x[:, 2]) ## All rows, 2th column (prints a row for some reason)\n",
    "print(x[1, :]) ## 1th row, all columns"
   ]
  },
  {
   "cell_type": "code",
   "execution_count": 14,
   "id": "7a56c179",
   "metadata": {},
   "outputs": [
    {
     "name": "stdout",
     "output_type": "stream",
     "text": [
      "tensor([[0.0093, 0.6430, 0.7569, 0.7371],\n",
      "        [0.4865, 0.3625, 0.2603, 0.1209],\n",
      "        [0.9138, 0.0548, 0.0853, 0.4779],\n",
      "        [0.5871, 0.0725, 0.7205, 0.6162]])\n",
      "tensor([[0.0093, 0.6430, 0.7569, 0.7371, 0.4865, 0.3625, 0.2603, 0.1209],\n",
      "        [0.9138, 0.0548, 0.0853, 0.4779, 0.5871, 0.0725, 0.7205, 0.6162]])\n",
      "tensor([[0.0093, 0.6430],\n",
      "        [0.7569, 0.7371],\n",
      "        [0.4865, 0.3625],\n",
      "        [0.2603, 0.1209],\n",
      "        [0.9138, 0.0548],\n",
      "        [0.0853, 0.4779],\n",
      "        [0.5871, 0.0725],\n",
      "        [0.7205, 0.6162]])\n",
      "tensor([[0.0093, 0.6430, 0.7569, 0.7371, 0.4865, 0.3625, 0.2603, 0.1209],\n",
      "        [0.9138, 0.0548, 0.0853, 0.4779, 0.5871, 0.0725, 0.7205, 0.6162]])\n",
      "tensor([[[0.0093, 0.6430],\n",
      "         [0.7569, 0.7371]],\n",
      "\n",
      "        [[0.4865, 0.3625],\n",
      "         [0.2603, 0.1209]],\n",
      "\n",
      "        [[0.9138, 0.0548],\n",
      "         [0.0853, 0.4779]],\n",
      "\n",
      "        [[0.5871, 0.0725],\n",
      "         [0.7205, 0.6162]]])\n"
     ]
    }
   ],
   "source": [
    "## Reshaping\n",
    "a = torch.rand([4, 4], dtype=torch.float32) ## 4 rows, 4 columns\n",
    "print(a)\n",
    "b = a.view(2, 8) ## 2 rows, 8 columns\n",
    "print(b)\n",
    "c = a.view(8, 2) ## 8 rows, 2 columns\n",
    "print(c)\n",
    "d = a.view(-1, 8) ## Automatically decide rows, 8 columns\n",
    "print(d)\n",
    "e = a.view([4, 2, 2]) ## 4 of 2 rows, 2 columns\n",
    "print(e)"
   ]
  },
  {
   "cell_type": "code",
   "execution_count": 15,
   "id": "9a08ea62",
   "metadata": {},
   "outputs": [],
   "source": [
    "## Checking for GPU support\n",
    "\n",
    "if torch.cuda.is_available():\n",
    "    for i in range(torch.cuda.device_count()):\n",
    "        print(\"Device {}: {}\".format(i, torch.cuda.get_device_name(i)))"
   ]
  },
  {
   "cell_type": "code",
   "execution_count": 16,
   "id": "caa04584",
   "metadata": {},
   "outputs": [],
   "source": [
    "## Setting device = GPU\n",
    "\n",
    "if torch.cuda.is_available():\n",
    "    device = torch.device(\"cuda\")"
   ]
  },
  {
   "cell_type": "code",
   "execution_count": 17,
   "id": "79c4f2bd",
   "metadata": {},
   "outputs": [
    {
     "ename": "NameError",
     "evalue": "name 'device' is not defined",
     "output_type": "error",
     "traceback": [
      "\u001b[0;31m---------------------------------------------------------------------------\u001b[0m",
      "\u001b[0;31mNameError\u001b[0m                                 Traceback (most recent call last)",
      "Input \u001b[0;32mIn [17]\u001b[0m, in \u001b[0;36m<module>\u001b[0;34m\u001b[0m\n\u001b[0;32m----> 1\u001b[0m x \u001b[38;5;241m=\u001b[39m x\u001b[38;5;241m.\u001b[39mto(\u001b[43mdevice\u001b[49m) \u001b[38;5;66;03m## Takes the tensor x to GPU\u001b[39;00m\n\u001b[1;32m      2\u001b[0m \u001b[38;5;28mprint\u001b[39m(x)\n",
      "\u001b[0;31mNameError\u001b[0m: name 'device' is not defined"
     ]
    }
   ],
   "source": [
    "x = x.to(device) ## Takes the tensor x to GPU\n",
    "print(x)"
   ]
  },
  {
   "cell_type": "code",
   "execution_count": null,
   "id": "0adf5dfe",
   "metadata": {},
   "outputs": [],
   "source": [
    "## The following fails because the tensor is currently on the GPU and needs to be detached from the GPU and transferred to the CPU\n",
    "cpuz = x.numpy()\n",
    "print(cpuz)"
   ]
  },
  {
   "cell_type": "code",
   "execution_count": null,
   "id": "e9751433",
   "metadata": {},
   "outputs": [],
   "source": [
    "cpuz = x.cpu().detach().numpy()\n",
    "print(cpuz)"
   ]
  },
  {
   "cell_type": "markdown",
   "id": "78bc89ac",
   "metadata": {},
   "source": [
    "That's about it for now."
   ]
  },
  {
   "cell_type": "code",
   "execution_count": null,
   "id": "b0f418d0",
   "metadata": {},
   "outputs": [],
   "source": []
  }
 ],
 "metadata": {
  "kernelspec": {
   "display_name": "Python 3 (ipykernel)",
   "language": "python",
   "name": "python3"
  },
  "language_info": {
   "codemirror_mode": {
    "name": "ipython",
    "version": 3
   },
   "file_extension": ".py",
   "mimetype": "text/x-python",
   "name": "python",
   "nbconvert_exporter": "python",
   "pygments_lexer": "ipython3",
   "version": "3.8.11"
  }
 },
 "nbformat": 4,
 "nbformat_minor": 5
}
