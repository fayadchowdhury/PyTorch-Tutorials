{
 "cells": [
  {
   "cell_type": "markdown",
   "id": "1ea23b37",
   "metadata": {},
   "source": [
    "### PyTorch Lightning"
   ]
  },
  {
   "cell_type": "markdown",
   "id": "a12c4366",
   "metadata": {},
   "source": [
    "PyTorch Lightning is an open source wrapper around PyTorch that abstracts away a lot of details, like training vs evaluation method, zeroing out gradients, using CUDA cores etc. It also comes with built in Tensorboard."
   ]
  },
  {
   "cell_type": "code",
   "execution_count": 1,
   "id": "50206022",
   "metadata": {},
   "outputs": [
    {
     "name": "stderr",
     "output_type": "stream",
     "text": [
      "/Users/fayad/miniconda3/envs/ml/lib/python3.8/site-packages/tqdm/auto.py:22: TqdmWarning: IProgress not found. Please update jupyter and ipywidgets. See https://ipywidgets.readthedocs.io/en/stable/user_install.html\n",
      "  from .autonotebook import tqdm as notebook_tqdm\n",
      "/Users/fayad/miniconda3/envs/ml/lib/python3.8/site-packages/torchvision/io/image.py:11: UserWarning: Failed to load image Python extension: dlopen(/Users/fayad/miniconda3/envs/ml/lib/python3.8/site-packages/torchvision/image.so, 0x0006): Library not loaded: @rpath/libpng16.16.dylib\n",
      "  Referenced from: /Users/fayad/miniconda3/envs/ml/lib/python3.8/site-packages/torchvision/image.so\n",
      "  Reason: tried: '/Users/fayad/miniconda3/envs/ml/lib/libpng16.16.dylib' (no such file), '/Users/fayad/miniconda3/envs/ml/lib/libpng16.16.dylib' (no such file), '/Users/fayad/miniconda3/envs/ml/lib/python3.8/lib-dynload/../../libpng16.16.dylib' (no such file), '/Users/fayad/miniconda3/envs/ml/lib/libpng16.16.dylib' (no such file), '/Users/fayad/miniconda3/envs/ml/bin/../lib/libpng16.16.dylib' (no such file), '/usr/local/lib/libpng16.16.dylib' (no such file), '/usr/lib/libpng16.16.dylib' (no such file)\n",
      "  warn(f\"Failed to load image Python extension: {e}\")\n"
     ]
    }
   ],
   "source": [
    "import torch\n",
    "import torch.nn as nn\n",
    "import torchvision\n",
    "import matplotlib.pyplot as plt\n",
    "import pytorch_lightning as pl\n",
    "import torch.nn.functional as F\n",
    "from pytorch_lightning import Trainer"
   ]
  },
  {
   "cell_type": "code",
   "execution_count": 2,
   "id": "17b3d03e",
   "metadata": {},
   "outputs": [],
   "source": [
    "# Define hyperparameters\n",
    "input_size = 784 # Images are 28x28 = 784 pixels each\n",
    "hidden_size = 100 # Number of neurons in the hidden layer\n",
    "num_classes = 10 # 10 classes or digits to be predicted\n",
    "num_epochs = 2 # 2 epochs\n",
    "batch_size = 100 # 100 samples per batch\n",
    "alpha = 1e-3 # Learning rate = 0.001"
   ]
  },
  {
   "cell_type": "code",
   "execution_count": 3,
   "id": "276ba853",
   "metadata": {},
   "outputs": [],
   "source": [
    "# Create FFN\n",
    "# We are going to be inheriting from pl.LightningModule instead of nn.Module\n",
    "class FFN(pl.LightningModule):\n",
    "    def __init__(self, input_size, hidden_size, num_classes):\n",
    "        super(FFN, self).__init__()\n",
    "        self.l1 = nn.Linear(input_size, hidden_size)\n",
    "        self.relu = nn.ReLU()\n",
    "        self.l2 = nn.Linear(hidden_size, num_classes)\n",
    "    \n",
    "    def forward(self, x):\n",
    "        return (self.l2(self.relu(self.l1(x))))\n",
    "        # We are not using any softmax layer or one-hot encoding the output since we are going to be using CrossEntropyLoss\n",
    "    \n",
    "    def configure_optimizers(self):\n",
    "        optimizer = torch.optim.Adam(self.parameters(), lr=alpha)\n",
    "        return optimizer\n",
    "    \n",
    "    # PyTorch Lightning also requires a training_step, a configure_optimizers and a train_dataloader function\n",
    "    # Additionally it is useful to include a validation_step and val_dataloader function for evaluation\n",
    "    \n",
    "    def training_step(self, batch, batch_idx):\n",
    "        # Here we do not need to worry about the loops or the backprops\n",
    "        \n",
    "        # Acquire training sample from batch\n",
    "        images, labels = batch\n",
    "        # images are of the shape 100, 1, 28, 28\n",
    "        # There are 100 images per batch\n",
    "        # Each image has 1 channel (grayscale) and 28x28 pixels\n",
    "        # The required format is 100, 784\n",
    "        # 100 samples each with 784 features (pixel values)\n",
    "        images = images.view(images.shape[0], 28*28) # Reshape the tensor, no need to push it to device\n",
    "        \n",
    "        # Forward propagation\n",
    "        predicted_output = self(images) # self is model\n",
    "        \n",
    "        # Loss\n",
    "        loss = F.cross_entropy(predicted_output, labels)\n",
    "        tensorboard_logs = {'train_loss': loss}\n",
    "        \n",
    "        return {'train_loss': loss, 'log': tensorboard_logs}\n",
    "    \n",
    "    def train_dataloader(self):\n",
    "        # Import dataset\n",
    "        train_dataset = torchvision.datasets.MNIST(root=\"./data\", train=True, transform=torchvision.transforms.ToTensor(), download=True)\n",
    "        \n",
    "        #Set up dataloader\n",
    "        train_dataloader = torch.utils.DataLoader(dataset=train_dataset, batch_size=batch_size, shuffle=True) # Could be useful to set num_workers attribute\n",
    "        \n",
    "        return train_dataloader\n",
    "    \n",
    "    def validation_step(self, batch, batch_idx):\n",
    "        # Here we do not need to worry about the loops or the backprops\n",
    "        \n",
    "        # Acquire training sample from batch\n",
    "        images, labels = batch\n",
    "        # images are of the shape 100, 1, 28, 28\n",
    "        # There are 100 images per batch\n",
    "        # Each image has 1 channel (grayscale) and 28x28 pixels\n",
    "        # The required format is 100, 784\n",
    "        # 100 samples each with 784 features (pixel values)\n",
    "        images = images.view(images.shape[0], 28*28) # Reshape the tensor, no need to push it to device\n",
    "        \n",
    "        # Forward propagation\n",
    "        predicted_output = self(images) # self is model\n",
    "        \n",
    "        # Loss\n",
    "        loss = F.cross_entropy(predicted_output, labels)\n",
    "        return {'val_loss': loss}\n",
    "    \n",
    "    def val_dataloader(self):\n",
    "        # Import dataset\n",
    "        validation_dataset = torchvision.datasets.MNIST(root=\"./data\", train=False, transform=torchvision.transforms.ToTensor(), download=True)\n",
    "        \n",
    "        #Set up dataloader\n",
    "        validation_dataloader = torch.utils.DataLoader(dataset=validation_dataset, batch_size=batch_size, shuffle=False) # Could be useful to set num_workers attribute\n",
    "        \n",
    "        return validation_dataloader\n",
    "    \n",
    "    # It is also possible to define test_step and test_dataloader\n",
    "    \n",
    "    # It is also common practice to define a validation_epoch_end function\n",
    "    # This gets called at the end of the validation epoch\n",
    "    \n",
    "    def validation_epoch_end(self, outputs):\n",
    "        avg_loss = torch.stack([x['val_loss'] for x in outputs]).mean()\n",
    "        tensorboard_logs = {'avg_val_loss': avg_loss}\n",
    "        return {'val_loss': avg_loss, 'log': tensorboard_logs}"
   ]
  },
  {
   "cell_type": "code",
   "execution_count": 4,
   "id": "f98c7164",
   "metadata": {},
   "outputs": [
    {
     "name": "stderr",
     "output_type": "stream",
     "text": [
      "GPU available: False, used: False\n",
      "TPU available: False, using: 0 TPU cores\n",
      "IPU available: False, using: 0 IPUs\n",
      "Running in fast_dev_run mode: will run a full train, val, test and prediction loop using 1 batch(es).\n",
      "\n",
      "  | Name | Type   | Params\n",
      "--------------------------------\n",
      "0 | l1   | Linear | 78.5 K\n",
      "1 | relu | ReLU   | 0     \n",
      "2 | l2   | Linear | 1.0 K \n",
      "--------------------------------\n",
      "79.5 K    Trainable params\n",
      "0         Non-trainable params\n",
      "79.5 K    Total params\n",
      "0.318     Total estimated model params size (MB)\n"
     ]
    },
    {
     "name": "stdout",
     "output_type": "stream",
     "text": [
      "Downloading http://yann.lecun.com/exdb/mnist/train-images-idx3-ubyte.gz\n",
      "Using downloaded and verified file: ./data/MNIST/raw/train-images-idx3-ubyte.gz\n",
      "Extracting ./data/MNIST/raw/train-images-idx3-ubyte.gz to ./data/MNIST/raw\n",
      "\n",
      "Downloading http://yann.lecun.com/exdb/mnist/train-labels-idx1-ubyte.gz\n",
      "Downloading http://yann.lecun.com/exdb/mnist/train-labels-idx1-ubyte.gz to ./data/MNIST/raw/train-labels-idx1-ubyte.gz\n"
     ]
    },
    {
     "name": "stderr",
     "output_type": "stream",
     "text": [
      " 96%|███████████████████████████████████▍ | 27648/28881 [11:51<00:31, 38.88it/s]"
     ]
    },
    {
     "name": "stdout",
     "output_type": "stream",
     "text": [
      "\n"
     ]
    },
    {
     "name": "stderr",
     "output_type": "stream",
     "text": [
      "\n",
      "/Users/fayad/miniconda3/envs/ml/lib/python3.8/site-packages/pytorch_lightning/trainer/trainer.py:688: UserWarning: Detected KeyboardInterrupt, attempting graceful shutdown...\n",
      "  rank_zero_warn(\"Detected KeyboardInterrupt, attempting graceful shutdown...\")\n"
     ]
    }
   ],
   "source": [
    "# Finally start training\n",
    "trainer = Trainer(fast_dev_run=True) \n",
    "# It is also posisble to add in more parameters, such as gpus, tpu_cores, callbacks, checkpoint_callbacks, max_epochs etc.\n",
    "# fast_dev_run one epoch of training; helpful to check if everything is in order or not\n",
    "model = FFN(input_size, hidden_size, num_classes)\n",
    "trainer.fit(model)"
   ]
  },
  {
   "cell_type": "markdown",
   "id": "be9eb184",
   "metadata": {},
   "source": [
    "Refer to https://pytorch-lightning.readthedocs.io/en for more info"
   ]
  }
 ],
 "metadata": {
  "kernelspec": {
   "display_name": "Python 3 (ipykernel)",
   "language": "python",
   "name": "python3"
  },
  "language_info": {
   "codemirror_mode": {
    "name": "ipython",
    "version": 3
   },
   "file_extension": ".py",
   "mimetype": "text/x-python",
   "name": "python",
   "nbconvert_exporter": "python",
   "pygments_lexer": "ipython3",
   "version": "3.8.11"
  }
 },
 "nbformat": 4,
 "nbformat_minor": 5
}
